{
 "cells": [
  {
   "cell_type": "code",
   "execution_count": 1,
   "id": "14f24b49",
   "metadata": {},
   "outputs": [],
   "source": [
    "import random\n",
    "import math\n",
    "\n",
    "import pandas as pd\n",
    "import numpy as np\n",
    "import scipy.stats as stats\n",
    "import matplotlib.pyplot as plt\n",
    "\n",
    "from sklearn.compose import ColumnTransformer\n",
    "from sklearn.preprocessing import StandardScaler,LabelBinarizer\n",
    "\n",
    "import pymc as pm\n",
    "import aesara.tensor as T\n",
    "import arviz as az"
   ]
  },
  {
   "cell_type": "code",
   "execution_count": 2,
   "id": "9bf1935b",
   "metadata": {},
   "outputs": [],
   "source": [
    "%config InlineBackend.figure_format = 'retina'\n",
    "# Initialize random number generator\n",
    "az.style.use(\"arviz-darkgrid\")"
   ]
  },
  {
   "cell_type": "code",
   "execution_count": 3,
   "id": "cd3f77de",
   "metadata": {},
   "outputs": [],
   "source": [
    "#Drop duplicates to ensure equal sample sizes during simulation\n",
    "tox21_two_assays = pd.read_csv(\"../data/two-assay-example.csv\").drop_duplicates(subset=['PROTOCOL_NAME', 'SAMPLE_NAME'])\n",
    "organism = ['human' for i in range(tox21_two_assays.shape[0])] + ['animal' for i in range(tox21_two_assays.shape[0])]\n",
    "new_protocol = [i + '-' + v for i,v in zip(pd.concat([tox21_two_assays['PROTOCOL_NAME'],tox21_two_assays['PROTOCOL_NAME']]),organism)]\n",
    "simulated_two_assays = tox21_two_assays.copy()\n",
    "four_assay_simulated = pd.concat([tox21_two_assays,simulated_two_assays])\n",
    "four_assay_simulated['PROTOCOL_NAME'] = new_protocol\n",
    "four_assay_simulated.insert(2,'ORGANISM',organism)\n",
    "four_assay_simulated.reset_index(drop=True,inplace=True)"
   ]
  },
  {
   "cell_type": "code",
   "execution_count": 24,
   "id": "fca8f383",
   "metadata": {},
   "outputs": [
    {
     "data": {
      "text/html": [
       "<div>\n",
       "<style scoped>\n",
       "    .dataframe tbody tr th:only-of-type {\n",
       "        vertical-align: middle;\n",
       "    }\n",
       "\n",
       "    .dataframe tbody tr th {\n",
       "        vertical-align: top;\n",
       "    }\n",
       "\n",
       "    .dataframe thead th {\n",
       "        text-align: right;\n",
       "    }\n",
       "</style>\n",
       "<table border=\"1\" class=\"dataframe\">\n",
       "  <thead>\n",
       "    <tr style=\"text-align: right;\">\n",
       "      <th></th>\n",
       "      <th>PROTOCOL_NAME</th>\n",
       "      <th>CHANNEL_OUTCOME</th>\n",
       "      <th>ORGANISM</th>\n",
       "      <th>SAMPLE_NAME</th>\n",
       "      <th>MaxEStateIndex</th>\n",
       "      <th>MinEStateIndex</th>\n",
       "      <th>MaxAbsEStateIndex</th>\n",
       "      <th>MinAbsEStateIndex</th>\n",
       "      <th>qed</th>\n",
       "      <th>MolWt</th>\n",
       "      <th>...</th>\n",
       "      <th>fr_sulfide</th>\n",
       "      <th>fr_sulfonamd</th>\n",
       "      <th>fr_sulfone</th>\n",
       "      <th>fr_term_acetylene</th>\n",
       "      <th>fr_tetrazole</th>\n",
       "      <th>fr_thiazole</th>\n",
       "      <th>fr_thiocyan</th>\n",
       "      <th>fr_thiophene</th>\n",
       "      <th>fr_unbrch_alkane</th>\n",
       "      <th>fr_urea</th>\n",
       "    </tr>\n",
       "  </thead>\n",
       "  <tbody>\n",
       "    <tr>\n",
       "      <th>0</th>\n",
       "      <td>tox21-ar-mda-kb2-luc-agonist-p3-human</td>\n",
       "      <td>inactive</td>\n",
       "      <td>human</td>\n",
       "      <td>Imipenem</td>\n",
       "      <td>11.938415</td>\n",
       "      <td>-1.104254</td>\n",
       "      <td>11.938415</td>\n",
       "      <td>0.052549</td>\n",
       "      <td>0.224452</td>\n",
       "      <td>299.352</td>\n",
       "      <td>...</td>\n",
       "      <td>1</td>\n",
       "      <td>0</td>\n",
       "      <td>0</td>\n",
       "      <td>0</td>\n",
       "      <td>0</td>\n",
       "      <td>0</td>\n",
       "      <td>0</td>\n",
       "      <td>0</td>\n",
       "      <td>2</td>\n",
       "      <td>0</td>\n",
       "    </tr>\n",
       "    <tr>\n",
       "      <th>1</th>\n",
       "      <td>tox21-ar-mda-kb2-luc-agonist-p3-human</td>\n",
       "      <td>inactive</td>\n",
       "      <td>human</td>\n",
       "      <td>Quinapril hydrochloride</td>\n",
       "      <td>13.260918</td>\n",
       "      <td>-1.036043</td>\n",
       "      <td>13.260918</td>\n",
       "      <td>0.000000</td>\n",
       "      <td>0.542299</td>\n",
       "      <td>474.985</td>\n",
       "      <td>...</td>\n",
       "      <td>0</td>\n",
       "      <td>0</td>\n",
       "      <td>0</td>\n",
       "      <td>0</td>\n",
       "      <td>0</td>\n",
       "      <td>0</td>\n",
       "      <td>0</td>\n",
       "      <td>0</td>\n",
       "      <td>0</td>\n",
       "      <td>0</td>\n",
       "    </tr>\n",
       "    <tr>\n",
       "      <th>2</th>\n",
       "      <td>tox21-ar-mda-kb2-luc-agonist-p3-human</td>\n",
       "      <td>inactive</td>\n",
       "      <td>human</td>\n",
       "      <td>Diphenoxylate hydrochloride</td>\n",
       "      <td>13.076853</td>\n",
       "      <td>-0.710688</td>\n",
       "      <td>13.076853</td>\n",
       "      <td>0.000000</td>\n",
       "      <td>0.369982</td>\n",
       "      <td>489.059</td>\n",
       "      <td>...</td>\n",
       "      <td>0</td>\n",
       "      <td>0</td>\n",
       "      <td>0</td>\n",
       "      <td>0</td>\n",
       "      <td>0</td>\n",
       "      <td>0</td>\n",
       "      <td>0</td>\n",
       "      <td>0</td>\n",
       "      <td>0</td>\n",
       "      <td>0</td>\n",
       "    </tr>\n",
       "    <tr>\n",
       "      <th>3</th>\n",
       "      <td>tox21-ar-mda-kb2-luc-agonist-p3-human</td>\n",
       "      <td>inactive</td>\n",
       "      <td>human</td>\n",
       "      <td>Eperisone hydrochloride</td>\n",
       "      <td>12.391306</td>\n",
       "      <td>0.000000</td>\n",
       "      <td>12.391306</td>\n",
       "      <td>0.000000</td>\n",
       "      <td>0.766044</td>\n",
       "      <td>295.854</td>\n",
       "      <td>...</td>\n",
       "      <td>0</td>\n",
       "      <td>0</td>\n",
       "      <td>0</td>\n",
       "      <td>0</td>\n",
       "      <td>0</td>\n",
       "      <td>0</td>\n",
       "      <td>0</td>\n",
       "      <td>0</td>\n",
       "      <td>0</td>\n",
       "      <td>0</td>\n",
       "    </tr>\n",
       "    <tr>\n",
       "      <th>4</th>\n",
       "      <td>tox21-ar-mda-kb2-luc-agonist-p3-human</td>\n",
       "      <td>inactive</td>\n",
       "      <td>human</td>\n",
       "      <td>Pranoprofen</td>\n",
       "      <td>11.024948</td>\n",
       "      <td>-0.820607</td>\n",
       "      <td>11.024948</td>\n",
       "      <td>0.513338</td>\n",
       "      <td>0.764395</td>\n",
       "      <td>255.273</td>\n",
       "      <td>...</td>\n",
       "      <td>0</td>\n",
       "      <td>0</td>\n",
       "      <td>0</td>\n",
       "      <td>0</td>\n",
       "      <td>0</td>\n",
       "      <td>0</td>\n",
       "      <td>0</td>\n",
       "      <td>0</td>\n",
       "      <td>0</td>\n",
       "      <td>0</td>\n",
       "    </tr>\n",
       "  </tbody>\n",
       "</table>\n",
       "<p>5 rows × 208 columns</p>\n",
       "</div>"
      ],
      "text/plain": [
       "                           PROTOCOL_NAME CHANNEL_OUTCOME ORGANISM  \\\n",
       "0  tox21-ar-mda-kb2-luc-agonist-p3-human        inactive    human   \n",
       "1  tox21-ar-mda-kb2-luc-agonist-p3-human        inactive    human   \n",
       "2  tox21-ar-mda-kb2-luc-agonist-p3-human        inactive    human   \n",
       "3  tox21-ar-mda-kb2-luc-agonist-p3-human        inactive    human   \n",
       "4  tox21-ar-mda-kb2-luc-agonist-p3-human        inactive    human   \n",
       "\n",
       "                   SAMPLE_NAME  MaxEStateIndex  MinEStateIndex  \\\n",
       "0                     Imipenem       11.938415       -1.104254   \n",
       "1      Quinapril hydrochloride       13.260918       -1.036043   \n",
       "2  Diphenoxylate hydrochloride       13.076853       -0.710688   \n",
       "3      Eperisone hydrochloride       12.391306        0.000000   \n",
       "4                  Pranoprofen       11.024948       -0.820607   \n",
       "\n",
       "   MaxAbsEStateIndex  MinAbsEStateIndex       qed    MolWt  ...  fr_sulfide  \\\n",
       "0          11.938415           0.052549  0.224452  299.352  ...           1   \n",
       "1          13.260918           0.000000  0.542299  474.985  ...           0   \n",
       "2          13.076853           0.000000  0.369982  489.059  ...           0   \n",
       "3          12.391306           0.000000  0.766044  295.854  ...           0   \n",
       "4          11.024948           0.513338  0.764395  255.273  ...           0   \n",
       "\n",
       "   fr_sulfonamd  fr_sulfone  fr_term_acetylene  fr_tetrazole  fr_thiazole  \\\n",
       "0             0           0                  0             0            0   \n",
       "1             0           0                  0             0            0   \n",
       "2             0           0                  0             0            0   \n",
       "3             0           0                  0             0            0   \n",
       "4             0           0                  0             0            0   \n",
       "\n",
       "   fr_thiocyan  fr_thiophene  fr_unbrch_alkane  fr_urea  \n",
       "0            0             0                 2        0  \n",
       "1            0             0                 0        0  \n",
       "2            0             0                 0        0  \n",
       "3            0             0                 0        0  \n",
       "4            0             0                 0        0  \n",
       "\n",
       "[5 rows x 208 columns]"
      ]
     },
     "execution_count": 24,
     "metadata": {},
     "output_type": "execute_result"
    }
   ],
   "source": [
    "four_assay_simulated.head()"
   ]
  },
  {
   "cell_type": "code",
   "execution_count": 4,
   "id": "c779c210",
   "metadata": {},
   "outputs": [],
   "source": [
    "vc = four_assay_simulated.groupby([\"SAMPLE_NAME\"]).agg({'PROTOCOL_NAME':'count'}).reset_index()"
   ]
  },
  {
   "cell_type": "code",
   "execution_count": 5,
   "id": "5fb04930",
   "metadata": {},
   "outputs": [],
   "source": [
    "non_dup_samples = vc['SAMPLE_NAME'][vc['PROTOCOL_NAME']==4].values"
   ]
  },
  {
   "cell_type": "code",
   "execution_count": 6,
   "id": "562b198c",
   "metadata": {},
   "outputs": [
    {
     "data": {
      "text/plain": [
       "6453"
      ]
     },
     "execution_count": 6,
     "metadata": {},
     "output_type": "execute_result"
    }
   ],
   "source": [
    "len(non_dup_samples)"
   ]
  },
  {
   "cell_type": "code",
   "execution_count": 7,
   "id": "bcc327dc",
   "metadata": {},
   "outputs": [],
   "source": [
    "RANDOM_SEED = 101\n",
    "np.random.seed(RANDOM_SEED)"
   ]
  },
  {
   "cell_type": "markdown",
   "id": "6d598feb",
   "metadata": {},
   "source": [
    "## Mathematical notation of the multi-level model\n",
    "\n",
    "The dataset is composed of $c=1...M$ assays, within which $i=1...N_{c}$ compounds were tested for activity. The assay activity outcomes are binary and so we model the likelihood of compound $i$ being active in assay $c$ as a function of $j=1...p$ chemical descriptor features, $X$, and $k=1...q$ assay-level features $Z$.\n",
    "\n",
    "The outcome data are treated as draws from a Bernoulli distribution with odd determined by a logit link to a multi-level linear predictor. The chemical-level regression coefficients $\\beta_{j,c}$ reflect the effect of chemical descriptor $j$ on the odds of a compounds being active in assay $c$. The vector of chemical-level coefficients for each assay, $\\vec{\\beta_{c}}$, are modeled as draws from a multivariate normal distribution with expectation $\\vec{\\mu_{\\beta_{c}}}$ and covariance matrix $\\Sigma$. \n",
    "\n",
    "Further, the expected value of the chemical-level coefficients is modeled as a linear function of assay-level features. Specifically the assay-level regression coefficients, $\\gamma_{k,j}$, reflect the effect of assay features $k$ on the regression coefficients for chemical descriptor $j$ across all $M$ assays. The $\\gamma$ values themselves are modeled as being drawn from a normal distibution with mean zero and variance $\\sigma^{2}_{\\gamma}$; finally, the two chemical-level and assay-level linear predictors each have normal gaussian noise terms $\\epsilon$ and $u$ respectively.\n",
    "\n",
    "$$u \\sim N(0,\\sigma^{2}_{u})$$\n",
    "$$\\gamma  \\sim N(0,\\sigma^{2}_{\\gamma})$$\n",
    "$$\\epsilon \\sim N(0,\\sigma^{2}_{\\epsilon})$$\n",
    "$$\\mu_{\\beta_{j,c}} = \\gamma_{0,j} + \\gamma_{1,j}z_{1,c} + ... + \\gamma_{k,j}z_{q,c} + u_{j,c}$$\n",
    "$$\\vec{\\beta_{c}} \\sim MvNormal(\\vec{\\mu_{\\beta_{c}}},\\Sigma)$$\n",
    "$$ \\mathbb{E}[y_{i,c}|X,Z] = g^{-1}(\\beta_{0,c} + \\beta_{1,c}x_{1,i,c} +...+ \\beta_{p,c}x_{j,i,c}+ \\epsilon_{i,c})$$\n",
    "$$ y_{i,c} \\sim Bernoulli(\\mathbb{E}[y_{i,c}|X,Z]) $$"
   ]
  },
  {
   "cell_type": "markdown",
   "id": "d1e57c2e",
   "metadata": {},
   "source": [
    "# One assay feature and one chemical descriptor"
   ]
  },
  {
   "cell_type": "code",
   "execution_count": 9,
   "id": "95833758",
   "metadata": {},
   "outputs": [
    {
     "name": "stderr",
     "output_type": "stream",
     "text": [
      "Auto-assigning NUTS sampler...\n",
      "Initializing NUTS using adapt_diag...\n",
      "Multiprocess sampling (4 chains in 4 jobs)\n",
      "NUTS: [chol, g_beta_0, sigma_beta_0, beta_0, g_beta_1, sigma_beta_1, beta_1, beta_protocol]\n"
     ]
    },
    {
     "data": {
      "text/html": [
       "\n",
       "<style>\n",
       "    /* Turns off some styling */\n",
       "    progress {\n",
       "        /* gets rid of default border in Firefox and Opera. */\n",
       "        border: none;\n",
       "        /* Needs to be in here for Safari polyfill so background images work as expected. */\n",
       "        background-size: auto;\n",
       "    }\n",
       "    progress:not([value]), progress:not([value])::-webkit-progress-bar {\n",
       "        background: repeating-linear-gradient(45deg, #7e7e7e, #7e7e7e 10px, #5c5c5c 10px, #5c5c5c 20px);\n",
       "    }\n",
       "    .progress-bar-interrupted, .progress-bar-interrupted::-webkit-progress-bar {\n",
       "        background: #F44336;\n",
       "    }\n",
       "</style>\n"
      ],
      "text/plain": [
       "<IPython.core.display.HTML object>"
      ]
     },
     "metadata": {},
     "output_type": "display_data"
    },
    {
     "data": {
      "text/html": [
       "\n",
       "    <div>\n",
       "      <progress value='6000' class='' max='6000' style='width:300px; height:20px; vertical-align: middle;'></progress>\n",
       "      100.00% [6000/6000 05:37&lt;00:00 Sampling 4 chains, 239 divergences]\n",
       "    </div>\n",
       "    "
      ],
      "text/plain": [
       "<IPython.core.display.HTML object>"
      ]
     },
     "metadata": {},
     "output_type": "display_data"
    },
    {
     "name": "stderr",
     "output_type": "stream",
     "text": [
      "Sampling 4 chains for 1_000 tune and 500 draw iterations (4_000 + 2_000 draws total) took 358 seconds.\n",
      "There were 40 divergences after tuning. Increase `target_accept` or reparameterize.\n",
      "There were 114 divergences after tuning. Increase `target_accept` or reparameterize.\n",
      "The acceptance probability does not match the target. It is 0.6215, but should be close to 0.8. Try to increase the number of tuning steps.\n",
      "There were 40 divergences after tuning. Increase `target_accept` or reparameterize.\n",
      "There were 45 divergences after tuning. Increase `target_accept` or reparameterize.\n",
      "Auto-assigning NUTS sampler...\n",
      "Initializing NUTS using adapt_diag...\n",
      "Multiprocess sampling (4 chains in 4 jobs)\n",
      "NUTS: [chol, g_beta_0, sigma_beta_0, beta_0, g_beta_1, sigma_beta_1, beta_1, beta_protocol]\n"
     ]
    },
    {
     "data": {
      "text/html": [
       "\n",
       "<style>\n",
       "    /* Turns off some styling */\n",
       "    progress {\n",
       "        /* gets rid of default border in Firefox and Opera. */\n",
       "        border: none;\n",
       "        /* Needs to be in here for Safari polyfill so background images work as expected. */\n",
       "        background-size: auto;\n",
       "    }\n",
       "    progress:not([value]), progress:not([value])::-webkit-progress-bar {\n",
       "        background: repeating-linear-gradient(45deg, #7e7e7e, #7e7e7e 10px, #5c5c5c 10px, #5c5c5c 20px);\n",
       "    }\n",
       "    .progress-bar-interrupted, .progress-bar-interrupted::-webkit-progress-bar {\n",
       "        background: #F44336;\n",
       "    }\n",
       "</style>\n"
      ],
      "text/plain": [
       "<IPython.core.display.HTML object>"
      ]
     },
     "metadata": {},
     "output_type": "display_data"
    },
    {
     "data": {
      "text/html": [
       "\n",
       "    <div>\n",
       "      <progress value='6000' class='' max='6000' style='width:300px; height:20px; vertical-align: middle;'></progress>\n",
       "      100.00% [6000/6000 05:39&lt;00:00 Sampling 4 chains, 158 divergences]\n",
       "    </div>\n",
       "    "
      ],
      "text/plain": [
       "<IPython.core.display.HTML object>"
      ]
     },
     "metadata": {},
     "output_type": "display_data"
    },
    {
     "name": "stderr",
     "output_type": "stream",
     "text": [
      "Sampling 4 chains for 1_000 tune and 500 draw iterations (4_000 + 2_000 draws total) took 357 seconds.\n",
      "There were 36 divergences after tuning. Increase `target_accept` or reparameterize.\n",
      "There were 49 divergences after tuning. Increase `target_accept` or reparameterize.\n",
      "There were 33 divergences after tuning. Increase `target_accept` or reparameterize.\n",
      "There were 40 divergences after tuning. Increase `target_accept` or reparameterize.\n",
      "Auto-assigning NUTS sampler...\n",
      "Initializing NUTS using adapt_diag...\n",
      "Multiprocess sampling (4 chains in 4 jobs)\n",
      "NUTS: [chol, g_beta_0, sigma_beta_0, beta_0, g_beta_1, sigma_beta_1, beta_1, beta_protocol]\n"
     ]
    },
    {
     "data": {
      "text/html": [
       "\n",
       "<style>\n",
       "    /* Turns off some styling */\n",
       "    progress {\n",
       "        /* gets rid of default border in Firefox and Opera. */\n",
       "        border: none;\n",
       "        /* Needs to be in here for Safari polyfill so background images work as expected. */\n",
       "        background-size: auto;\n",
       "    }\n",
       "    progress:not([value]), progress:not([value])::-webkit-progress-bar {\n",
       "        background: repeating-linear-gradient(45deg, #7e7e7e, #7e7e7e 10px, #5c5c5c 10px, #5c5c5c 20px);\n",
       "    }\n",
       "    .progress-bar-interrupted, .progress-bar-interrupted::-webkit-progress-bar {\n",
       "        background: #F44336;\n",
       "    }\n",
       "</style>\n"
      ],
      "text/plain": [
       "<IPython.core.display.HTML object>"
      ]
     },
     "metadata": {},
     "output_type": "display_data"
    },
    {
     "data": {
      "text/html": [
       "\n",
       "    <div>\n",
       "      <progress value='6000' class='' max='6000' style='width:300px; height:20px; vertical-align: middle;'></progress>\n",
       "      100.00% [6000/6000 06:00&lt;00:00 Sampling 4 chains, 325 divergences]\n",
       "    </div>\n",
       "    "
      ],
      "text/plain": [
       "<IPython.core.display.HTML object>"
      ]
     },
     "metadata": {},
     "output_type": "display_data"
    },
    {
     "name": "stderr",
     "output_type": "stream",
     "text": [
      "Sampling 4 chains for 1_000 tune and 500 draw iterations (4_000 + 2_000 draws total) took 379 seconds.\n",
      "There were 95 divergences after tuning. Increase `target_accept` or reparameterize.\n",
      "The acceptance probability does not match the target. It is 0.5716, but should be close to 0.8. Try to increase the number of tuning steps.\n",
      "There were 94 divergences after tuning. Increase `target_accept` or reparameterize.\n",
      "The acceptance probability does not match the target. It is 0.698, but should be close to 0.8. Try to increase the number of tuning steps.\n",
      "There were 37 divergences after tuning. Increase `target_accept` or reparameterize.\n",
      "There were 99 divergences after tuning. Increase `target_accept` or reparameterize.\n",
      "The acceptance probability does not match the target. It is 0.6198, but should be close to 0.8. Try to increase the number of tuning steps.\n",
      "Auto-assigning NUTS sampler...\n",
      "Initializing NUTS using adapt_diag...\n",
      "Multiprocess sampling (4 chains in 4 jobs)\n",
      "NUTS: [chol, g_beta_0, sigma_beta_0, beta_0, g_beta_1, sigma_beta_1, beta_1, beta_protocol]\n"
     ]
    },
    {
     "data": {
      "text/html": [
       "\n",
       "<style>\n",
       "    /* Turns off some styling */\n",
       "    progress {\n",
       "        /* gets rid of default border in Firefox and Opera. */\n",
       "        border: none;\n",
       "        /* Needs to be in here for Safari polyfill so background images work as expected. */\n",
       "        background-size: auto;\n",
       "    }\n",
       "    progress:not([value]), progress:not([value])::-webkit-progress-bar {\n",
       "        background: repeating-linear-gradient(45deg, #7e7e7e, #7e7e7e 10px, #5c5c5c 10px, #5c5c5c 20px);\n",
       "    }\n",
       "    .progress-bar-interrupted, .progress-bar-interrupted::-webkit-progress-bar {\n",
       "        background: #F44336;\n",
       "    }\n",
       "</style>\n"
      ],
      "text/plain": [
       "<IPython.core.display.HTML object>"
      ]
     },
     "metadata": {},
     "output_type": "display_data"
    },
    {
     "data": {
      "text/html": [
       "\n",
       "    <div>\n",
       "      <progress value='6000' class='' max='6000' style='width:300px; height:20px; vertical-align: middle;'></progress>\n",
       "      100.00% [6000/6000 05:24&lt;00:00 Sampling 4 chains, 294 divergences]\n",
       "    </div>\n",
       "    "
      ],
      "text/plain": [
       "<IPython.core.display.HTML object>"
      ]
     },
     "metadata": {},
     "output_type": "display_data"
    },
    {
     "name": "stderr",
     "output_type": "stream",
     "text": [
      "Sampling 4 chains for 1_000 tune and 500 draw iterations (4_000 + 2_000 draws total) took 342 seconds.\n",
      "There were 75 divergences after tuning. Increase `target_accept` or reparameterize.\n",
      "The acceptance probability does not match the target. It is 0.6603, but should be close to 0.8. Try to increase the number of tuning steps.\n",
      "There were 107 divergences after tuning. Increase `target_accept` or reparameterize.\n",
      "The acceptance probability does not match the target. It is 0.6383, but should be close to 0.8. Try to increase the number of tuning steps.\n",
      "There were 69 divergences after tuning. Increase `target_accept` or reparameterize.\n",
      "There were 43 divergences after tuning. Increase `target_accept` or reparameterize.\n",
      "Auto-assigning NUTS sampler...\n",
      "Initializing NUTS using adapt_diag...\n",
      "Multiprocess sampling (4 chains in 4 jobs)\n",
      "NUTS: [chol, g_beta_0, sigma_beta_0, beta_0, g_beta_1, sigma_beta_1, beta_1, beta_protocol]\n"
     ]
    },
    {
     "data": {
      "text/html": [
       "\n",
       "<style>\n",
       "    /* Turns off some styling */\n",
       "    progress {\n",
       "        /* gets rid of default border in Firefox and Opera. */\n",
       "        border: none;\n",
       "        /* Needs to be in here for Safari polyfill so background images work as expected. */\n",
       "        background-size: auto;\n",
       "    }\n",
       "    progress:not([value]), progress:not([value])::-webkit-progress-bar {\n",
       "        background: repeating-linear-gradient(45deg, #7e7e7e, #7e7e7e 10px, #5c5c5c 10px, #5c5c5c 20px);\n",
       "    }\n",
       "    .progress-bar-interrupted, .progress-bar-interrupted::-webkit-progress-bar {\n",
       "        background: #F44336;\n",
       "    }\n",
       "</style>\n"
      ],
      "text/plain": [
       "<IPython.core.display.HTML object>"
      ]
     },
     "metadata": {},
     "output_type": "display_data"
    },
    {
     "data": {
      "text/html": [
       "\n",
       "    <div>\n",
       "      <progress value='6000' class='' max='6000' style='width:300px; height:20px; vertical-align: middle;'></progress>\n",
       "      100.00% [6000/6000 14:11&lt;00:00 Sampling 4 chains, 337 divergences]\n",
       "    </div>\n",
       "    "
      ],
      "text/plain": [
       "<IPython.core.display.HTML object>"
      ]
     },
     "metadata": {},
     "output_type": "display_data"
    },
    {
     "name": "stderr",
     "output_type": "stream",
     "text": [
      "Sampling 4 chains for 1_000 tune and 500 draw iterations (4_000 + 2_000 draws total) took 2322 seconds.\n",
      "There were 39 divergences after tuning. Increase `target_accept` or reparameterize.\n",
      "There were 156 divergences after tuning. Increase `target_accept` or reparameterize.\n",
      "The acceptance probability does not match the target. It is 0.5446, but should be close to 0.8. Try to increase the number of tuning steps.\n",
      "There were 78 divergences after tuning. Increase `target_accept` or reparameterize.\n",
      "The acceptance probability does not match the target. It is 0.5462, but should be close to 0.8. Try to increase the number of tuning steps.\n",
      "There were 64 divergences after tuning. Increase `target_accept` or reparameterize.\n",
      "Auto-assigning NUTS sampler...\n",
      "Initializing NUTS using adapt_diag...\n",
      "Multiprocess sampling (4 chains in 4 jobs)\n",
      "NUTS: [chol, g_beta_0, sigma_beta_0, beta_0, g_beta_1, sigma_beta_1, beta_1, beta_protocol]\n"
     ]
    },
    {
     "data": {
      "text/html": [
       "\n",
       "<style>\n",
       "    /* Turns off some styling */\n",
       "    progress {\n",
       "        /* gets rid of default border in Firefox and Opera. */\n",
       "        border: none;\n",
       "        /* Needs to be in here for Safari polyfill so background images work as expected. */\n",
       "        background-size: auto;\n",
       "    }\n",
       "    progress:not([value]), progress:not([value])::-webkit-progress-bar {\n",
       "        background: repeating-linear-gradient(45deg, #7e7e7e, #7e7e7e 10px, #5c5c5c 10px, #5c5c5c 20px);\n",
       "    }\n",
       "    .progress-bar-interrupted, .progress-bar-interrupted::-webkit-progress-bar {\n",
       "        background: #F44336;\n",
       "    }\n",
       "</style>\n"
      ],
      "text/plain": [
       "<IPython.core.display.HTML object>"
      ]
     },
     "metadata": {},
     "output_type": "display_data"
    },
    {
     "data": {
      "text/html": [
       "\n",
       "    <div>\n",
       "      <progress value='6000' class='' max='6000' style='width:300px; height:20px; vertical-align: middle;'></progress>\n",
       "      100.00% [6000/6000 04:25&lt;00:00 Sampling 4 chains, 230 divergences]\n",
       "    </div>\n",
       "    "
      ],
      "text/plain": [
       "<IPython.core.display.HTML object>"
      ]
     },
     "metadata": {},
     "output_type": "display_data"
    },
    {
     "name": "stderr",
     "output_type": "stream",
     "text": [
      "Sampling 4 chains for 1_000 tune and 500 draw iterations (4_000 + 2_000 draws total) took 285 seconds.\n",
      "There were 55 divergences after tuning. Increase `target_accept` or reparameterize.\n",
      "There were 98 divergences after tuning. Increase `target_accept` or reparameterize.\n",
      "The acceptance probability does not match the target. It is 0.6755, but should be close to 0.8. Try to increase the number of tuning steps.\n",
      "There were 43 divergences after tuning. Increase `target_accept` or reparameterize.\n",
      "There were 34 divergences after tuning. Increase `target_accept` or reparameterize.\n",
      "Auto-assigning NUTS sampler...\n",
      "Initializing NUTS using adapt_diag...\n",
      "Multiprocess sampling (4 chains in 4 jobs)\n",
      "NUTS: [chol, g_beta_0, sigma_beta_0, beta_0, g_beta_1, sigma_beta_1, beta_1, beta_protocol]\n"
     ]
    },
    {
     "data": {
      "text/html": [
       "\n",
       "<style>\n",
       "    /* Turns off some styling */\n",
       "    progress {\n",
       "        /* gets rid of default border in Firefox and Opera. */\n",
       "        border: none;\n",
       "        /* Needs to be in here for Safari polyfill so background images work as expected. */\n",
       "        background-size: auto;\n",
       "    }\n",
       "    progress:not([value]), progress:not([value])::-webkit-progress-bar {\n",
       "        background: repeating-linear-gradient(45deg, #7e7e7e, #7e7e7e 10px, #5c5c5c 10px, #5c5c5c 20px);\n",
       "    }\n",
       "    .progress-bar-interrupted, .progress-bar-interrupted::-webkit-progress-bar {\n",
       "        background: #F44336;\n",
       "    }\n",
       "</style>\n"
      ],
      "text/plain": [
       "<IPython.core.display.HTML object>"
      ]
     },
     "metadata": {},
     "output_type": "display_data"
    },
    {
     "data": {
      "text/html": [
       "\n",
       "    <div>\n",
       "      <progress value='6000' class='' max='6000' style='width:300px; height:20px; vertical-align: middle;'></progress>\n",
       "      100.00% [6000/6000 05:32&lt;00:00 Sampling 4 chains, 635 divergences]\n",
       "    </div>\n",
       "    "
      ],
      "text/plain": [
       "<IPython.core.display.HTML object>"
      ]
     },
     "metadata": {},
     "output_type": "display_data"
    },
    {
     "name": "stderr",
     "output_type": "stream",
     "text": [
      "Sampling 4 chains for 1_000 tune and 500 draw iterations (4_000 + 2_000 draws total) took 350 seconds.\n",
      "There were 40 divergences after tuning. Increase `target_accept` or reparameterize.\n",
      "There were 85 divergences after tuning. Increase `target_accept` or reparameterize.\n",
      "The acceptance probability does not match the target. It is 0.6085, but should be close to 0.8. Try to increase the number of tuning steps.\n",
      "There were 410 divergences after tuning. Increase `target_accept` or reparameterize.\n",
      "The acceptance probability does not match the target. It is 0.1274, but should be close to 0.8. Try to increase the number of tuning steps.\n",
      "There were 100 divergences after tuning. Increase `target_accept` or reparameterize.\n",
      "The acceptance probability does not match the target. It is 0.6283, but should be close to 0.8. Try to increase the number of tuning steps.\n",
      "Auto-assigning NUTS sampler...\n",
      "Initializing NUTS using adapt_diag...\n",
      "Multiprocess sampling (4 chains in 4 jobs)\n",
      "NUTS: [chol, g_beta_0, sigma_beta_0, beta_0, g_beta_1, sigma_beta_1, beta_1, beta_protocol]\n"
     ]
    },
    {
     "data": {
      "text/html": [
       "\n",
       "<style>\n",
       "    /* Turns off some styling */\n",
       "    progress {\n",
       "        /* gets rid of default border in Firefox and Opera. */\n",
       "        border: none;\n",
       "        /* Needs to be in here for Safari polyfill so background images work as expected. */\n",
       "        background-size: auto;\n",
       "    }\n",
       "    progress:not([value]), progress:not([value])::-webkit-progress-bar {\n",
       "        background: repeating-linear-gradient(45deg, #7e7e7e, #7e7e7e 10px, #5c5c5c 10px, #5c5c5c 20px);\n",
       "    }\n",
       "    .progress-bar-interrupted, .progress-bar-interrupted::-webkit-progress-bar {\n",
       "        background: #F44336;\n",
       "    }\n",
       "</style>\n"
      ],
      "text/plain": [
       "<IPython.core.display.HTML object>"
      ]
     },
     "metadata": {},
     "output_type": "display_data"
    },
    {
     "data": {
      "text/html": [
       "\n",
       "    <div>\n",
       "      <progress value='6000' class='' max='6000' style='width:300px; height:20px; vertical-align: middle;'></progress>\n",
       "      100.00% [6000/6000 05:51&lt;00:00 Sampling 4 chains, 167 divergences]\n",
       "    </div>\n",
       "    "
      ],
      "text/plain": [
       "<IPython.core.display.HTML object>"
      ]
     },
     "metadata": {},
     "output_type": "display_data"
    },
    {
     "name": "stderr",
     "output_type": "stream",
     "text": [
      "Sampling 4 chains for 1_000 tune and 500 draw iterations (4_000 + 2_000 draws total) took 371 seconds.\n",
      "There were 51 divergences after tuning. Increase `target_accept` or reparameterize.\n",
      "There were 47 divergences after tuning. Increase `target_accept` or reparameterize.\n",
      "The acceptance probability does not match the target. It is 0.7204, but should be close to 0.8. Try to increase the number of tuning steps.\n",
      "There were 36 divergences after tuning. Increase `target_accept` or reparameterize.\n",
      "There were 33 divergences after tuning. Increase `target_accept` or reparameterize.\n",
      "Auto-assigning NUTS sampler...\n",
      "Initializing NUTS using adapt_diag...\n",
      "Multiprocess sampling (4 chains in 4 jobs)\n",
      "NUTS: [chol, g_beta_0, sigma_beta_0, beta_0, g_beta_1, sigma_beta_1, beta_1, beta_protocol]\n"
     ]
    },
    {
     "data": {
      "text/html": [
       "\n",
       "<style>\n",
       "    /* Turns off some styling */\n",
       "    progress {\n",
       "        /* gets rid of default border in Firefox and Opera. */\n",
       "        border: none;\n",
       "        /* Needs to be in here for Safari polyfill so background images work as expected. */\n",
       "        background-size: auto;\n",
       "    }\n",
       "    progress:not([value]), progress:not([value])::-webkit-progress-bar {\n",
       "        background: repeating-linear-gradient(45deg, #7e7e7e, #7e7e7e 10px, #5c5c5c 10px, #5c5c5c 20px);\n",
       "    }\n",
       "    .progress-bar-interrupted, .progress-bar-interrupted::-webkit-progress-bar {\n",
       "        background: #F44336;\n",
       "    }\n",
       "</style>\n"
      ],
      "text/plain": [
       "<IPython.core.display.HTML object>"
      ]
     },
     "metadata": {},
     "output_type": "display_data"
    },
    {
     "data": {
      "text/html": [
       "\n",
       "    <div>\n",
       "      <progress value='6000' class='' max='6000' style='width:300px; height:20px; vertical-align: middle;'></progress>\n",
       "      100.00% [6000/6000 05:20&lt;00:00 Sampling 4 chains, 142 divergences]\n",
       "    </div>\n",
       "    "
      ],
      "text/plain": [
       "<IPython.core.display.HTML object>"
      ]
     },
     "metadata": {},
     "output_type": "display_data"
    },
    {
     "name": "stderr",
     "output_type": "stream",
     "text": [
      "Sampling 4 chains for 1_000 tune and 500 draw iterations (4_000 + 2_000 draws total) took 339 seconds.\n",
      "There were 39 divergences after tuning. Increase `target_accept` or reparameterize.\n",
      "There were 28 divergences after tuning. Increase `target_accept` or reparameterize.\n",
      "There were 39 divergences after tuning. Increase `target_accept` or reparameterize.\n",
      "There were 36 divergences after tuning. Increase `target_accept` or reparameterize.\n",
      "Auto-assigning NUTS sampler...\n",
      "Initializing NUTS using adapt_diag...\n",
      "Multiprocess sampling (4 chains in 4 jobs)\n",
      "NUTS: [chol, g_beta_0, sigma_beta_0, beta_0, g_beta_1, sigma_beta_1, beta_1, beta_protocol]\n"
     ]
    },
    {
     "data": {
      "text/html": [
       "\n",
       "<style>\n",
       "    /* Turns off some styling */\n",
       "    progress {\n",
       "        /* gets rid of default border in Firefox and Opera. */\n",
       "        border: none;\n",
       "        /* Needs to be in here for Safari polyfill so background images work as expected. */\n",
       "        background-size: auto;\n",
       "    }\n",
       "    progress:not([value]), progress:not([value])::-webkit-progress-bar {\n",
       "        background: repeating-linear-gradient(45deg, #7e7e7e, #7e7e7e 10px, #5c5c5c 10px, #5c5c5c 20px);\n",
       "    }\n",
       "    .progress-bar-interrupted, .progress-bar-interrupted::-webkit-progress-bar {\n",
       "        background: #F44336;\n",
       "    }\n",
       "</style>\n"
      ],
      "text/plain": [
       "<IPython.core.display.HTML object>"
      ]
     },
     "metadata": {},
     "output_type": "display_data"
    },
    {
     "data": {
      "text/html": [
       "\n",
       "    <div>\n",
       "      <progress value='6000' class='' max='6000' style='width:300px; height:20px; vertical-align: middle;'></progress>\n",
       "      100.00% [6000/6000 05:24&lt;00:00 Sampling 4 chains, 135 divergences]\n",
       "    </div>\n",
       "    "
      ],
      "text/plain": [
       "<IPython.core.display.HTML object>"
      ]
     },
     "metadata": {},
     "output_type": "display_data"
    },
    {
     "name": "stderr",
     "output_type": "stream",
     "text": [
      "Sampling 4 chains for 1_000 tune and 500 draw iterations (4_000 + 2_000 draws total) took 342 seconds.\n",
      "There were 34 divergences after tuning. Increase `target_accept` or reparameterize.\n",
      "There were 36 divergences after tuning. Increase `target_accept` or reparameterize.\n",
      "There were 32 divergences after tuning. Increase `target_accept` or reparameterize.\n",
      "There were 33 divergences after tuning. Increase `target_accept` or reparameterize.\n"
     ]
    }
   ],
   "source": [
    "niter = 10\n",
    "n_compounds = 500\n",
    "n_mcmc_samples = 500\n",
    "\n",
    "simulated_results = []\n",
    "for rit in range(niter):\n",
    "    # Sample compounds\n",
    "    random_compounds = np.random.choice(non_dup_samples,n_compounds,replace=False)\n",
    "    test_data = four_assay_simulated[four_assay_simulated['SAMPLE_NAME'].isin(random_compounds)]\n",
    "\n",
    "    test_data.loc[test_data[\"CHANNEL_OUTCOME\"] == 1, \"CHANNEL_OUTCOME\"] = 'active antagonist'\n",
    "    test_data.loc[test_data[\"CHANNEL_OUTCOME\"] == 0, \"CHANNEL_OUTCOME\"] = 'inactive'\n",
    "\n",
    "    assay_info = test_data.loc[:,('PROTOCOL_NAME','ORGANISM')].drop_duplicates()\n",
    "    assay_info.insert(0,'Intercept',1)\n",
    "    assay_info.PROTOCOL_NAME = pd.factorize(assay_info.PROTOCOL_NAME)[0]\n",
    "    assay_info.ORGANISM = pd.factorize(assay_info.ORGANISM)[0]\n",
    "\n",
    "    protocol_idx = pd.factorize(test_data['PROTOCOL_NAME'])#[0]\n",
    "    organism_idx = pd.factorize(test_data['ORGANISM'])\n",
    "\n",
    "    scaler = StandardScaler()\n",
    "    X1 = scaler.fit_transform(test_data[['BCUT2D_CHGHI']])\n",
    "    X = np.insert(X1,0,np.ones(len(X1)),axis=1)\n",
    "\n",
    "    # Simulate activities based on hierarchichal random effects\n",
    "    n_features = 1\n",
    "    sig_beta = [0.5,0.5] #np.random.exponential(1,2)\n",
    "\n",
    "    #Average intercept and average slope -- hard coded, no intercept slope covariance\n",
    "    \n",
    "    gamma = np.array([[-1, 1], [2, 2]]) + np.random.multivariate_normal([0,0],np.diag([0.1,0.1]),2)\n",
    "    beta_corr = stats.random_correlation.rvs((1,1))\n",
    "    sd_chol = np.linalg.multi_dot([np.diag(sig_beta),beta_corr,np.diag(sig_beta)])\n",
    "\n",
    "    epsilon = np.random.multivariate_normal([0,0],np.diag([0.1,0.1]),assay_info.shape[0])\n",
    "    mu_prot = np.matmul(assay_info.loc[:,('Intercept','ORGANISM')], gamma) + epsilon\n",
    "    beta_prot = stats.matrix_normal.rvs(mu_prot,rowcov=np.identity(mu_prot.shape[0]),colcov=sd_chol)\n",
    "\n",
    "    theta_sim = np.sum(X*beta_prot[protocol_idx[0]],axis=1)\n",
    "    prob = 1.0 / (1.0 + np.exp(-theta_sim))\n",
    "    Y = np.random.binomial(1,prob,len(prob))\n",
    "    \n",
    "    #sim_data = pd.DataFrame(np.insert(X,0,Y[0],axis=1))\n",
    "    #sim_data.columns = [\"Outcome\",\"Intercept\",\"BCUT2D_CHGHI\"]\n",
    "    #sim_data['PROTOCOL'] = protocol_idx[0]\n",
    "    #sim_data['ORGANISM'] = organism_idx[0]\n",
    "\n",
    "    coords_simulated = {\n",
    "        'obs_id': np.arange(X.shape[0]),\n",
    "        'protocol':protocol_idx[1],\n",
    "        'params':['beta_{0}'.format(i) for i in range(X.shape[1])]\n",
    "    }\n",
    "    \n",
    "    #Compile and run PyMC model\n",
    "    with pm.Model(coords=coords_simulated) as assay_level_model:\n",
    "        prot_mod_idx = pm.Data(\"protocol_idx\", list(protocol_idx[0]),dims='obs_id',mutable=False)\n",
    "        org_mod_idx = pm.Data(\"organism_idx\", assay_info[\"ORGANISM\"], dims=\"protocol\",mutable=False)\n",
    "\n",
    "        # prior stddev in intercepts & slopes (variation across protocol):\n",
    "        sd_dist = pm.Exponential.dist(1.0)\n",
    "\n",
    "        # get back standard deviations and rho:\n",
    "        chol, corr, stds = pm.LKJCholeskyCov(\"chol\", n=X.shape[1], eta=2.0, sd_dist=sd_dist, compute_corr=True)\n",
    "\n",
    "        #hyperpriors and priors for average betas:\n",
    "        beta_list = []\n",
    "        for i in range(X.shape[1]):\n",
    "            gbeta = pm.Normal(\"g_beta_{0}\".format(i), mu=0.0, sigma=10.0, shape=2)\n",
    "            mu_gbeta = gbeta[0] + gbeta[1] * org_mod_idx\n",
    "            sigma_beta = pm.Exponential('sigma_beta_{0}'.format(i),1.0)\n",
    "            beta_list.append(pm.Normal('beta_{0}'.format(i), mu=mu_gbeta,sigma=sigma_beta,dims=\"protocol\"))\n",
    "\n",
    "        #population of varying protocol effects:\n",
    "\n",
    "        beta_protocol = pm.MvNormal(\"beta_protocol\", mu=T.stack(beta_list, axis=1), chol=chol,dims=('protocol', 'params'))\n",
    "\n",
    "        #Expected value per protocol:\n",
    "        theta =  beta_protocol[prot_mod_idx,0] * X[:,0]\n",
    "        for i in range(1,X.shape[1]):\n",
    "            theta += beta_protocol[prot_mod_idx,i] * X[:,i]\n",
    "\n",
    "        p = 1.0 / (1.0 + T.exp(-theta ))\n",
    "        likelihood = pm.Bernoulli('likelihood', p, observed=Y,dims=\"obs_id\")\n",
    "        \n",
    "        tr_assay = pm.sample(n_mcmc_samples, tune=1000, init=\"adapt_diag\",chains=4)\n",
    "\n",
    "        gamma_est = pd.concat([az.summary(tr_assay,'g_beta_{0}'.format(i), kind=\"stats\") for i in range(2)])\n",
    "        mu_prot_est = pd.concat([az.summary(tr_assay,'beta_{0}'.format(i), kind=\"stats\") for i in range(2)])\n",
    "        beta_prot_est = az.summary(tr_assay,\"beta_protocol\", kind=\"stats\")\n",
    "\n",
    "        gamma_est['simulated_value'] = np.transpose(gamma).reshape(-1)\n",
    "        mu_prot_est['simulated_value'] = mu_prot.melt().drop('variable',axis=1).value.tolist()\n",
    "        beta_prot_est['simulated_value'] = beta_prot.reshape(-1)\n",
    "        \n",
    "        res = {\n",
    "            'X' : X,\n",
    "            'Y' : Y,\n",
    "            'gamma' : gamma_est,\n",
    "            'mu_prot' : mu_prot_est,\n",
    "            'beta_prot' : beta_prot_est\n",
    "        }\n",
    "        simulated_results.append(res)"
   ]
  },
  {
   "cell_type": "code",
   "execution_count": 25,
   "id": "d82d419f",
   "metadata": {},
   "outputs": [
    {
     "data": {
      "image/svg+xml": [
       "<?xml version=\"1.0\" encoding=\"UTF-8\" standalone=\"no\"?>\n",
       "<!DOCTYPE svg PUBLIC \"-//W3C//DTD SVG 1.1//EN\"\n",
       " \"http://www.w3.org/Graphics/SVG/1.1/DTD/svg11.dtd\">\n",
       "<!-- Generated by graphviz version 2.50.0 (0)\n",
       " -->\n",
       "<!-- Pages: 1 -->\n",
       "<svg width=\"1038pt\" height=\"610pt\"\n",
       " viewBox=\"0.00 0.00 1037.55 609.77\" xmlns=\"http://www.w3.org/2000/svg\" xmlns:xlink=\"http://www.w3.org/1999/xlink\">\n",
       "<g id=\"graph0\" class=\"graph\" transform=\"scale(1 1) rotate(0) translate(4 605.77)\">\n",
       "<polygon fill=\"white\" stroke=\"transparent\" points=\"-4,4 -4,-605.77 1033.55,-605.77 1033.55,4 -4,4\"/>\n",
       "<g id=\"clust1\" class=\"cluster\">\n",
       "<title>clusterobs_id (2000)</title>\n",
       "<path fill=\"none\" stroke=\"black\" d=\"M20,-8C20,-8 112,-8 112,-8 118,-8 124,-14 124,-20 124,-20 124,-212.93 124,-212.93 124,-218.93 118,-224.93 112,-224.93 112,-224.93 20,-224.93 20,-224.93 14,-224.93 8,-218.93 8,-212.93 8,-212.93 8,-20 8,-20 8,-14 14,-8 20,-8\"/>\n",
       "<text text-anchor=\"middle\" x=\"78\" y=\"-15.8\" font-family=\"Times,serif\" font-size=\"14.00\">obs_id (2000)</text>\n",
       "</g>\n",
       "<g id=\"clust2\" class=\"cluster\">\n",
       "<title>clusterprotocol (4)</title>\n",
       "<path fill=\"none\" stroke=\"black\" d=\"M65,-243.91C65,-243.91 242,-243.91 242,-243.91 248,-243.91 254,-249.91 254,-255.91 254,-255.91 254,-448.84 254,-448.84 254,-454.84 248,-460.84 242,-460.84 242,-460.84 65,-460.84 65,-460.84 59,-460.84 53,-454.84 53,-448.84 53,-448.84 53,-255.91 53,-255.91 53,-249.91 59,-243.91 65,-243.91\"/>\n",
       "<text text-anchor=\"middle\" x=\"213.5\" y=\"-251.71\" font-family=\"Times,serif\" font-size=\"14.00\">protocol (4)</text>\n",
       "</g>\n",
       "<g id=\"clust4\" class=\"cluster\">\n",
       "<title>cluster2 x 2</title>\n",
       "<path fill=\"none\" stroke=\"black\" d=\"M274,-368.84C274,-368.84 358,-368.84 358,-368.84 364,-368.84 370,-374.84 370,-380.84 370,-380.84 370,-448.84 370,-448.84 370,-454.84 364,-460.84 358,-460.84 358,-460.84 274,-460.84 274,-460.84 268,-460.84 262,-454.84 262,-448.84 262,-448.84 262,-380.84 262,-380.84 262,-374.84 268,-368.84 274,-368.84\"/>\n",
       "<text text-anchor=\"middle\" x=\"348\" y=\"-376.64\" font-family=\"Times,serif\" font-size=\"14.00\">2 x 2</text>\n",
       "</g>\n",
       "<g id=\"clust3\" class=\"cluster\">\n",
       "<title>cluster3</title>\n",
       "<path fill=\"none\" stroke=\"black\" d=\"M351,-479.81C351,-479.81 513,-479.81 513,-479.81 519,-479.81 525,-485.81 525,-491.81 525,-491.81 525,-581.77 525,-581.77 525,-587.77 519,-593.77 513,-593.77 513,-593.77 351,-593.77 351,-593.77 345,-593.77 339,-587.77 339,-581.77 339,-581.77 339,-491.81 339,-491.81 339,-485.81 345,-479.81 351,-479.81\"/>\n",
       "<text text-anchor=\"middle\" x=\"513.5\" y=\"-487.61\" font-family=\"Times,serif\" font-size=\"14.00\">3</text>\n",
       "</g>\n",
       "<g id=\"clust5\" class=\"cluster\">\n",
       "<title>cluster2</title>\n",
       "<path fill=\"none\" stroke=\"black\" d=\"M390,-357.86C390,-357.86 696,-357.86 696,-357.86 702,-357.86 708,-363.86 708,-369.86 708,-369.86 708,-459.81 708,-459.81 708,-465.81 702,-471.81 696,-471.81 696,-471.81 390,-471.81 390,-471.81 384,-471.81 378,-465.81 378,-459.81 378,-459.81 378,-369.86 378,-369.86 378,-363.86 384,-357.86 390,-357.86\"/>\n",
       "<text text-anchor=\"middle\" x=\"696.5\" y=\"-365.66\" font-family=\"Times,serif\" font-size=\"14.00\">2</text>\n",
       "</g>\n",
       "<g id=\"clust6\" class=\"cluster\">\n",
       "<title>clusterprotocol (4) x params (2)</title>\n",
       "<path fill=\"none\" stroke=\"black\" d=\"M144,-121.95C144,-121.95 275,-121.95 275,-121.95 281,-121.95 287,-127.95 287,-133.95 287,-133.95 287,-223.91 287,-223.91 287,-229.91 281,-235.91 275,-235.91 275,-235.91 144,-235.91 144,-235.91 138,-235.91 132,-229.91 132,-223.91 132,-223.91 132,-133.95 132,-133.95 132,-127.95 138,-121.95 144,-121.95\"/>\n",
       "<text text-anchor=\"middle\" x=\"209.5\" y=\"-129.75\" font-family=\"Times,serif\" font-size=\"14.00\">protocol (4) x params (2)</text>\n",
       "</g>\n",
       "<!-- protocol_idx -->\n",
       "<g id=\"node1\" class=\"node\">\n",
       "<title>protocol_idx</title>\n",
       "<path fill=\"lightgrey\" stroke=\"black\" d=\"M99,-216.93C99,-216.93 33,-216.93 33,-216.93 27,-216.93 21,-210.93 21,-204.93 21,-204.93 21,-175.93 21,-175.93 21,-169.93 27,-163.93 33,-163.93 33,-163.93 99,-163.93 99,-163.93 105,-163.93 111,-169.93 111,-175.93 111,-175.93 111,-204.93 111,-204.93 111,-210.93 105,-216.93 99,-216.93\"/>\n",
       "<text text-anchor=\"middle\" x=\"66\" y=\"-201.73\" font-family=\"Times,serif\" font-size=\"14.00\">protocol_idx</text>\n",
       "<text text-anchor=\"middle\" x=\"66\" y=\"-186.73\" font-family=\"Times,serif\" font-size=\"14.00\">~</text>\n",
       "<text text-anchor=\"middle\" x=\"66\" y=\"-171.73\" font-family=\"Times,serif\" font-size=\"14.00\">ConstantData</text>\n",
       "</g>\n",
       "<!-- likelihood -->\n",
       "<g id=\"node2\" class=\"node\">\n",
       "<title>likelihood</title>\n",
       "<ellipse fill=\"lightgrey\" stroke=\"black\" cx=\"66\" cy=\"-76.48\" rx=\"50.41\" ry=\"37.45\"/>\n",
       "<text text-anchor=\"middle\" x=\"66\" y=\"-87.78\" font-family=\"Times,serif\" font-size=\"14.00\">likelihood</text>\n",
       "<text text-anchor=\"middle\" x=\"66\" y=\"-72.78\" font-family=\"Times,serif\" font-size=\"14.00\">~</text>\n",
       "<text text-anchor=\"middle\" x=\"66\" y=\"-57.78\" font-family=\"Times,serif\" font-size=\"14.00\">Bernoulli</text>\n",
       "</g>\n",
       "<!-- protocol_idx&#45;&gt;likelihood -->\n",
       "<g id=\"edge12\" class=\"edge\">\n",
       "<title>protocol_idx&#45;&gt;likelihood</title>\n",
       "<path fill=\"none\" stroke=\"black\" d=\"M66,-163.75C66,-152.02 66,-137.75 66,-124.22\"/>\n",
       "<polygon fill=\"black\" stroke=\"black\" points=\"69.5,-124.07 66,-114.07 62.5,-124.07 69.5,-124.07\"/>\n",
       "</g>\n",
       "<!-- beta_0 -->\n",
       "<g id=\"node3\" class=\"node\">\n",
       "<title>beta_0</title>\n",
       "<ellipse fill=\"none\" stroke=\"black\" cx=\"204\" cy=\"-312.38\" rx=\"41.94\" ry=\"37.45\"/>\n",
       "<text text-anchor=\"middle\" x=\"204\" y=\"-323.68\" font-family=\"Times,serif\" font-size=\"14.00\">beta_0</text>\n",
       "<text text-anchor=\"middle\" x=\"204\" y=\"-308.68\" font-family=\"Times,serif\" font-size=\"14.00\">~</text>\n",
       "<text text-anchor=\"middle\" x=\"204\" y=\"-293.68\" font-family=\"Times,serif\" font-size=\"14.00\">Normal</text>\n",
       "</g>\n",
       "<!-- beta_protocol -->\n",
       "<g id=\"node13\" class=\"node\">\n",
       "<title>beta_protocol</title>\n",
       "<ellipse fill=\"none\" stroke=\"black\" cx=\"204\" cy=\"-190.43\" rx=\"64.19\" ry=\"37.45\"/>\n",
       "<text text-anchor=\"middle\" x=\"204\" y=\"-201.73\" font-family=\"Times,serif\" font-size=\"14.00\">beta_protocol</text>\n",
       "<text text-anchor=\"middle\" x=\"204\" y=\"-186.73\" font-family=\"Times,serif\" font-size=\"14.00\">~</text>\n",
       "<text text-anchor=\"middle\" x=\"204\" y=\"-171.73\" font-family=\"Times,serif\" font-size=\"14.00\">MvNormal</text>\n",
       "</g>\n",
       "<!-- beta_0&#45;&gt;beta_protocol -->\n",
       "<g id=\"edge10\" class=\"edge\">\n",
       "<title>beta_0&#45;&gt;beta_protocol</title>\n",
       "<path fill=\"none\" stroke=\"black\" d=\"M204,-274.74C204,-263.34 204,-250.6 204,-238.58\"/>\n",
       "<polygon fill=\"black\" stroke=\"black\" points=\"207.5,-238.26 204,-228.26 200.5,-238.26 207.5,-238.26\"/>\n",
       "</g>\n",
       "<!-- beta_1 -->\n",
       "<g id=\"node4\" class=\"node\">\n",
       "<title>beta_1</title>\n",
       "<ellipse fill=\"none\" stroke=\"black\" cx=\"103\" cy=\"-312.38\" rx=\"41.94\" ry=\"37.45\"/>\n",
       "<text text-anchor=\"middle\" x=\"103\" y=\"-323.68\" font-family=\"Times,serif\" font-size=\"14.00\">beta_1</text>\n",
       "<text text-anchor=\"middle\" x=\"103\" y=\"-308.68\" font-family=\"Times,serif\" font-size=\"14.00\">~</text>\n",
       "<text text-anchor=\"middle\" x=\"103\" y=\"-293.68\" font-family=\"Times,serif\" font-size=\"14.00\">Normal</text>\n",
       "</g>\n",
       "<!-- beta_1&#45;&gt;beta_protocol -->\n",
       "<g id=\"edge9\" class=\"edge\">\n",
       "<title>beta_1&#45;&gt;beta_protocol</title>\n",
       "<path fill=\"none\" stroke=\"black\" d=\"M124.81,-280.15C133.28,-268.51 143.27,-255.35 153,-243.91 156.79,-239.44 160.88,-234.88 165.02,-230.41\"/>\n",
       "<polygon fill=\"black\" stroke=\"black\" points=\"167.7,-232.66 172.01,-222.99 162.61,-227.86 167.7,-232.66\"/>\n",
       "</g>\n",
       "<!-- organism_idx -->\n",
       "<g id=\"node5\" class=\"node\">\n",
       "<title>organism_idx</title>\n",
       "<path fill=\"lightgrey\" stroke=\"black\" d=\"M187,-452.84C187,-452.84 119,-452.84 119,-452.84 113,-452.84 107,-446.84 107,-440.84 107,-440.84 107,-411.84 107,-411.84 107,-405.84 113,-399.84 119,-399.84 119,-399.84 187,-399.84 187,-399.84 193,-399.84 199,-405.84 199,-411.84 199,-411.84 199,-440.84 199,-440.84 199,-446.84 193,-452.84 187,-452.84\"/>\n",
       "<text text-anchor=\"middle\" x=\"153\" y=\"-437.64\" font-family=\"Times,serif\" font-size=\"14.00\">organism_idx</text>\n",
       "<text text-anchor=\"middle\" x=\"153\" y=\"-422.64\" font-family=\"Times,serif\" font-size=\"14.00\">~</text>\n",
       "<text text-anchor=\"middle\" x=\"153\" y=\"-407.64\" font-family=\"Times,serif\" font-size=\"14.00\">ConstantData</text>\n",
       "</g>\n",
       "<!-- organism_idx&#45;&gt;beta_0 -->\n",
       "<g id=\"edge5\" class=\"edge\">\n",
       "<title>organism_idx&#45;&gt;beta_0</title>\n",
       "<path fill=\"none\" stroke=\"black\" d=\"M164.7,-399.65C170.49,-386.94 177.64,-371.25 184.24,-356.75\"/>\n",
       "<polygon fill=\"black\" stroke=\"black\" points=\"187.53,-357.99 188.49,-347.44 181.16,-355.09 187.53,-357.99\"/>\n",
       "</g>\n",
       "<!-- organism_idx&#45;&gt;beta_1 -->\n",
       "<g id=\"edge8\" class=\"edge\">\n",
       "<title>organism_idx&#45;&gt;beta_1</title>\n",
       "<path fill=\"none\" stroke=\"black\" d=\"M141.53,-399.65C135.85,-386.94 128.85,-371.25 122.37,-356.75\"/>\n",
       "<polygon fill=\"black\" stroke=\"black\" points=\"125.48,-355.14 118.21,-347.44 119.09,-358 125.48,-355.14\"/>\n",
       "</g>\n",
       "<!-- chol -->\n",
       "<g id=\"node6\" class=\"node\">\n",
       "<title>chol</title>\n",
       "<ellipse fill=\"none\" stroke=\"black\" cx=\"432\" cy=\"-548.29\" rx=\"84.71\" ry=\"37.45\"/>\n",
       "<text text-anchor=\"middle\" x=\"432\" y=\"-559.59\" font-family=\"Times,serif\" font-size=\"14.00\">chol</text>\n",
       "<text text-anchor=\"middle\" x=\"432\" y=\"-544.59\" font-family=\"Times,serif\" font-size=\"14.00\">~</text>\n",
       "<text text-anchor=\"middle\" x=\"432\" y=\"-529.59\" font-family=\"Times,serif\" font-size=\"14.00\">_LKJCholeskyCov</text>\n",
       "</g>\n",
       "<!-- chol_corr -->\n",
       "<g id=\"node7\" class=\"node\">\n",
       "<title>chol_corr</title>\n",
       "<polygon fill=\"none\" stroke=\"black\" points=\"361.5,-452.84 270.5,-452.84 270.5,-399.84 361.5,-399.84 361.5,-452.84\"/>\n",
       "<text text-anchor=\"middle\" x=\"316\" y=\"-437.64\" font-family=\"Times,serif\" font-size=\"14.00\">chol_corr</text>\n",
       "<text text-anchor=\"middle\" x=\"316\" y=\"-422.64\" font-family=\"Times,serif\" font-size=\"14.00\">~</text>\n",
       "<text text-anchor=\"middle\" x=\"316\" y=\"-407.64\" font-family=\"Times,serif\" font-size=\"14.00\">Deterministic</text>\n",
       "</g>\n",
       "<!-- chol&#45;&gt;chol_corr -->\n",
       "<g id=\"edge1\" class=\"edge\">\n",
       "<title>chol&#45;&gt;chol_corr</title>\n",
       "<path fill=\"none\" stroke=\"black\" d=\"M399.38,-513.56C383.34,-496.97 364.08,-477.05 348.11,-460.54\"/>\n",
       "<polygon fill=\"black\" stroke=\"black\" points=\"350.49,-457.97 341.03,-453.21 345.46,-462.84 350.49,-457.97\"/>\n",
       "</g>\n",
       "<!-- chol_stds -->\n",
       "<g id=\"node10\" class=\"node\">\n",
       "<title>chol_stds</title>\n",
       "<polygon fill=\"none\" stroke=\"black\" points=\"477.5,-452.84 386.5,-452.84 386.5,-399.84 477.5,-399.84 477.5,-452.84\"/>\n",
       "<text text-anchor=\"middle\" x=\"432\" y=\"-437.64\" font-family=\"Times,serif\" font-size=\"14.00\">chol_stds</text>\n",
       "<text text-anchor=\"middle\" x=\"432\" y=\"-422.64\" font-family=\"Times,serif\" font-size=\"14.00\">~</text>\n",
       "<text text-anchor=\"middle\" x=\"432\" y=\"-407.64\" font-family=\"Times,serif\" font-size=\"14.00\">Deterministic</text>\n",
       "</g>\n",
       "<!-- chol&#45;&gt;chol_stds -->\n",
       "<g id=\"edge2\" class=\"edge\">\n",
       "<title>chol&#45;&gt;chol_stds</title>\n",
       "<path fill=\"none\" stroke=\"black\" d=\"M432,-510.65C432,-495.68 432,-478.41 432,-463.49\"/>\n",
       "<polygon fill=\"black\" stroke=\"black\" points=\"435.5,-463.11 432,-453.11 428.5,-463.11 435.5,-463.11\"/>\n",
       "</g>\n",
       "<!-- chol&#45;&gt;beta_protocol -->\n",
       "<g id=\"edge11\" class=\"edge\">\n",
       "<title>chol&#45;&gt;beta_protocol</title>\n",
       "<path fill=\"none\" stroke=\"black\" d=\"M515.87,-542.27C667.21,-532.34 973.27,-508 1005,-471.81 1038.39,-433.73 1036.96,-397.15 1005,-357.86 913.55,-245.46 459.04,-206.51 278.3,-195.32\"/>\n",
       "<polygon fill=\"black\" stroke=\"black\" points=\"278.28,-191.82 268.09,-194.7 277.86,-198.8 278.28,-191.82\"/>\n",
       "</g>\n",
       "<!-- g_beta_1 -->\n",
       "<g id=\"node8\" class=\"node\">\n",
       "<title>g_beta_1</title>\n",
       "<ellipse fill=\"none\" stroke=\"black\" cx=\"542\" cy=\"-426.34\" rx=\"46.84\" ry=\"37.45\"/>\n",
       "<text text-anchor=\"middle\" x=\"542\" y=\"-437.64\" font-family=\"Times,serif\" font-size=\"14.00\">g_beta_1</text>\n",
       "<text text-anchor=\"middle\" x=\"542\" y=\"-422.64\" font-family=\"Times,serif\" font-size=\"14.00\">~</text>\n",
       "<text text-anchor=\"middle\" x=\"542\" y=\"-407.64\" font-family=\"Times,serif\" font-size=\"14.00\">Normal</text>\n",
       "</g>\n",
       "<!-- g_beta_1&#45;&gt;beta_1 -->\n",
       "<g id=\"edge6\" class=\"edge\">\n",
       "<title>g_beta_1&#45;&gt;beta_1</title>\n",
       "<path fill=\"none\" stroke=\"black\" d=\"M523.31,-391.66C514.18,-378.66 501.93,-365.17 487,-357.86 453.66,-341.53 188.15,-361.79 153,-349.86 148.94,-348.48 144.92,-346.64 141.04,-344.53\"/>\n",
       "<polygon fill=\"black\" stroke=\"black\" points=\"142.63,-341.4 132.28,-339.16 138.98,-347.37 142.63,-341.4\"/>\n",
       "</g>\n",
       "<!-- g_beta_0 -->\n",
       "<g id=\"node9\" class=\"node\">\n",
       "<title>g_beta_0</title>\n",
       "<ellipse fill=\"none\" stroke=\"black\" cx=\"653\" cy=\"-426.34\" rx=\"46.84\" ry=\"37.45\"/>\n",
       "<text text-anchor=\"middle\" x=\"653\" y=\"-437.64\" font-family=\"Times,serif\" font-size=\"14.00\">g_beta_0</text>\n",
       "<text text-anchor=\"middle\" x=\"653\" y=\"-422.64\" font-family=\"Times,serif\" font-size=\"14.00\">~</text>\n",
       "<text text-anchor=\"middle\" x=\"653\" y=\"-407.64\" font-family=\"Times,serif\" font-size=\"14.00\">Normal</text>\n",
       "</g>\n",
       "<!-- g_beta_0&#45;&gt;beta_0 -->\n",
       "<g id=\"edge3\" class=\"edge\">\n",
       "<title>g_beta_0&#45;&gt;beta_0</title>\n",
       "<path fill=\"none\" stroke=\"black\" d=\"M633.72,-391.95C624.58,-379.16 612.46,-365.75 598,-357.86 540.27,-326.35 349.2,-317.1 256.02,-314.43\"/>\n",
       "<polygon fill=\"black\" stroke=\"black\" points=\"256.05,-310.93 245.96,-314.16 255.86,-317.93 256.05,-310.93\"/>\n",
       "</g>\n",
       "<!-- sigma_beta_1 -->\n",
       "<g id=\"node11\" class=\"node\">\n",
       "<title>sigma_beta_1</title>\n",
       "<ellipse fill=\"none\" stroke=\"black\" cx=\"783\" cy=\"-426.34\" rx=\"65.11\" ry=\"37.45\"/>\n",
       "<text text-anchor=\"middle\" x=\"783\" y=\"-437.64\" font-family=\"Times,serif\" font-size=\"14.00\">sigma_beta_1</text>\n",
       "<text text-anchor=\"middle\" x=\"783\" y=\"-422.64\" font-family=\"Times,serif\" font-size=\"14.00\">~</text>\n",
       "<text text-anchor=\"middle\" x=\"783\" y=\"-407.64\" font-family=\"Times,serif\" font-size=\"14.00\">Exponential</text>\n",
       "</g>\n",
       "<!-- sigma_beta_1&#45;&gt;beta_1 -->\n",
       "<g id=\"edge7\" class=\"edge\">\n",
       "<title>sigma_beta_1&#45;&gt;beta_1</title>\n",
       "<path fill=\"none\" stroke=\"black\" d=\"M757.29,-391.78C745.15,-378.62 729.48,-364.99 712,-357.86 683.24,-346.13 182.46,-359.7 153,-349.86 148.93,-348.5 144.91,-346.68 141.03,-344.57\"/>\n",
       "<polygon fill=\"black\" stroke=\"black\" points=\"142.62,-341.44 132.26,-339.21 138.97,-347.41 142.62,-341.44\"/>\n",
       "</g>\n",
       "<!-- sigma_beta_0 -->\n",
       "<g id=\"node12\" class=\"node\">\n",
       "<title>sigma_beta_0</title>\n",
       "<ellipse fill=\"none\" stroke=\"black\" cx=\"931\" cy=\"-426.34\" rx=\"65.11\" ry=\"37.45\"/>\n",
       "<text text-anchor=\"middle\" x=\"931\" y=\"-437.64\" font-family=\"Times,serif\" font-size=\"14.00\">sigma_beta_0</text>\n",
       "<text text-anchor=\"middle\" x=\"931\" y=\"-422.64\" font-family=\"Times,serif\" font-size=\"14.00\">~</text>\n",
       "<text text-anchor=\"middle\" x=\"931\" y=\"-407.64\" font-family=\"Times,serif\" font-size=\"14.00\">Exponential</text>\n",
       "</g>\n",
       "<!-- sigma_beta_0&#45;&gt;beta_0 -->\n",
       "<g id=\"edge4\" class=\"edge\">\n",
       "<title>sigma_beta_0&#45;&gt;beta_0</title>\n",
       "<path fill=\"none\" stroke=\"black\" d=\"M903.75,-392.21C891.02,-379.13 874.75,-365.44 857,-357.86 802.39,-334.54 401.64,-319.65 256.39,-314.97\"/>\n",
       "<polygon fill=\"black\" stroke=\"black\" points=\"256.08,-311.46 245.97,-314.64 255.86,-318.46 256.08,-311.46\"/>\n",
       "</g>\n",
       "<!-- beta_protocol&#45;&gt;likelihood -->\n",
       "<g id=\"edge13\" class=\"edge\">\n",
       "<title>beta_protocol&#45;&gt;likelihood</title>\n",
       "<path fill=\"none\" stroke=\"black\" d=\"M170.22,-158.09C157.27,-146.44 142.2,-133.3 128,-121.95 122.38,-117.46 116.35,-112.87 110.35,-108.43\"/>\n",
       "<polygon fill=\"black\" stroke=\"black\" points=\"112.35,-105.56 102.21,-102.49 108.22,-111.21 112.35,-105.56\"/>\n",
       "</g>\n",
       "</g>\n",
       "</svg>\n"
      ],
      "text/plain": [
       "<graphviz.graphs.Digraph at 0x191be8730>"
      ]
     },
     "execution_count": 25,
     "metadata": {},
     "output_type": "execute_result"
    }
   ],
   "source": [
    "pm.model_to_graphviz(assay_level_model)"
   ]
  },
  {
   "cell_type": "markdown",
   "id": "65245d20",
   "metadata": {},
   "source": [
    "## Plot results\n",
    "\n",
    "To assess the whether we have our model straight we plot the estimated parameters from the model against the corresponding values used in the simulation. The estimated values are very well correlated with their simulated values, suggesting that the model is working effectively. Fruther, we can see that the chemical-level coefficients ($\\beta$) are estimates with less error than the assay-level coefficients ($\\gamma$). This is intuitive because outcome data are conditionally independent of the assay-level data given a particular value for the chemical level coefficient; there are effectively more degrees of freedom for the assay-level coefficients. This intuition is further confirmed by noting that the the $mu_{\\beta}$ estimates have a standard error intermediate between the $\\beta$ and $\\gamma$ estimates."
   ]
  },
  {
   "cell_type": "code",
   "execution_count": 29,
   "id": "0387d925",
   "metadata": {},
   "outputs": [
    {
     "data": {
      "image/png": "[encoded data removed]",
      "text/plain": [
       "<Figure size 1000x300 with 3 Axes>"
      ]
     },
     "metadata": {
      "image/png": {
       "height": 311,
       "width": 1015
      }
     },
     "output_type": "display_data"
    }
   ],
   "source": [
    "def abline(ax,slope, intercept):\n",
    "    x_vals = np.array([-3,4.5])#np.array(ax.get_xlim())\n",
    "    y_vals = intercept + slope * x_vals\n",
    "    ax.plot(x_vals, y_vals, '--')\n",
    "\n",
    "f, (ax1, ax2, ax3) = plt.subplots(1, 3,figsize=(10, 3))\n",
    "\n",
    "#Estimated chemical-level (beta) coefficients for each protocol\n",
    "beta_prot_est = pd.concat([i['beta_prot'] for i in simulated_results]).reset_index(drop=True)\n",
    "\n",
    "ax1.errorbar(beta_prot_est['simulated_value'],beta_prot_est['mean'],beta_prot_est['sd'],fmt='o',lw=1,ms=3)\n",
    "ax1.set_ylabel(r'$\\hat{\\beta}_{j,c}}$')\n",
    "ax1.set_xlabel(r'$\\beta_{j,c}$')\n",
    "ax1.axis('equal')\n",
    "abline(ax1, 1, 0) \n",
    "\n",
    "\n",
    "#Estimated expected coefficients\n",
    "mu_prot_est = pd.concat([i['mu_prot'] for i in simulated_results]).reset_index(drop=True)\n",
    "\n",
    "ax2.errorbar(mu_prot_est['simulated_value'],mu_prot_est['mean'],mu_prot_est['sd'],fmt='o',lw=1,ms=3)\n",
    "ax2.set_ylabel(r'$\\hat{\\mu}_{\\beta_{j,c}}$')\n",
    "ax2.set_xlabel(r'$\\mu_{\\beta_{j,c}}$')\n",
    "ax2.axis('equal')\n",
    "abline(ax2, 1, 0) \n",
    "\n",
    "#Estimated assay-level (gamma) coefficients for each chemical-level (beta) coefficient\n",
    "gamma_est = pd.concat([i['gamma'] for i in simulated_results]).reset_index(drop=True)\n",
    "\n",
    "ax3.errorbar(gamma_est['simulated_value'],gamma_est['mean'].values,gamma_est['sd'],fmt='o',lw=1,ms=3)\n",
    "ax3.set_ylabel(r'$\\hat{\\gamma}_{k,j}}$')\n",
    "ax3.set_xlabel(r'$\\gamma_{k,j}$')\n",
    "ax3.axis('equal')\n",
    "abline(ax3, 1, 0) \n",
    "\n",
    "plt.show()"
   ]
  }
 ],
 "metadata": {
  "kernelspec": {
   "display_name": "Python 3 (ipykernel)",
   "language": "python",
   "name": "python3"
  },
  "language_info": {
   "codemirror_mode": {
    "name": "ipython",
    "version": 3
   },
   "file_extension": ".py",
   "mimetype": "text/x-python",
   "name": "python",
   "nbconvert_exporter": "python",
   "pygments_lexer": "ipython3",
   "version": "3.9.13"
  }
 },
 "nbformat": 4,
 "nbformat_minor": 5
}
