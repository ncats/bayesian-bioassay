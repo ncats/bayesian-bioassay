{
 "cells": [
  {
   "cell_type": "code",
   "execution_count": 209,
   "id": "49d4a077",
   "metadata": {},
   "outputs": [],
   "source": [
    "import matplotlib.pyplot as plt\n",
    "import random\n",
    "import numpy as np\n",
    "import pandas as pd\n",
    "import pymc3 as pm\n",
    "import theano as thno\n",
    "import theano.tensor as T\n",
    "\n",
    "from scipy import integrate\n",
    "from scipy.optimize import fmin_powell\n",
    "import arviz as az\n",
    "from sklearn.linear_model import LogisticRegression\n",
    "from sklearn.preprocessing import LabelBinarizer\n",
    "import arviz as az\n",
    "%matplotlib inline"
   ]
  },
  {
   "cell_type": "code",
   "execution_count": 210,
   "id": "e3b0d9fb",
   "metadata": {},
   "outputs": [],
   "source": [
    "tox21_two_assays = pd.read_csv(\"two-assay-example.csv\")"
   ]
  },
  {
   "cell_type": "markdown",
   "id": "aa849413",
   "metadata": {},
   "source": [
    "## Single assay example with 3 features"
   ]
  },
  {
   "cell_type": "code",
   "execution_count": 211,
   "id": "b0921e5d",
   "metadata": {},
   "outputs": [],
   "source": [
    "one_assay = tox21_two_assays[tox21_two_assays['PROTOCOL_NAME'] == 'tox21-ar-mda-kb2-luc-agonist-p3']"
   ]
  },
  {
   "cell_type": "code",
   "execution_count": 212,
   "id": "31ad71dc",
   "metadata": {},
   "outputs": [],
   "source": [
    "X = one_assay.iloc[:,3:]\n",
    "y = one_assay.CHANNEL_OUTCOME"
   ]
  },
  {
   "cell_type": "code",
   "execution_count": 213,
   "id": "93cf05f9",
   "metadata": {},
   "outputs": [],
   "source": [
    "X_bayes = one_assay[['FpDensityMorgan2', 'BCUT2D_LOGPLOW','FractionCSP3']]\n",
    "X_bayes.insert(0,'Intercept',1)\n",
    "Y_bayes = pd.factorize(one_assay.CHANNEL_OUTCOME)"
   ]
  },
  {
   "cell_type": "code",
   "execution_count": 215,
   "id": "28e303ac",
   "metadata": {},
   "outputs": [],
   "source": [
    "with pm.Model() as logistic_model:\n",
    "    betas = pm.Normal('betas', 0.0, sd=3.0, shape=4)\n",
    "    p = 1.0 / (1.0 + T.exp(-T.dot(X_bayes, betas)))\n",
    "    likelihood = pm.Bernoulli('likelihood', p, observed=Y_bayes[0])\n"
   ]
  },
  {
   "cell_type": "code",
   "execution_count": null,
   "id": "6ab7aa65",
   "metadata": {},
   "outputs": [],
   "source": [
    "with logistic_model:\n",
    "    tr = pm.sample(500, tune=500, init=\"adapt_diag\",chains=4,cores=8)"
   ]
  },
  {
   "cell_type": "code",
   "execution_count": null,
   "id": "d1a9246c",
   "metadata": {},
   "outputs": [],
   "source": [
    "with logistic_model:\n",
    "    az.plot_trace(tr,compact=False, figsize=(16,26))\n",
    "    plt.show()"
   ]
  },
  {
   "cell_type": "markdown",
   "id": "3856635e",
   "metadata": {},
   "source": [
    "## Two assay example with random intercept and random slope"
   ]
  },
  {
   "cell_type": "code",
   "execution_count": null,
   "id": "4bd522d9",
   "metadata": {},
   "outputs": [],
   "source": [
    "protocols = pd.factorize(tox21_two_assays.PROTOCOL_NAME)"
   ]
  },
  {
   "cell_type": "code",
   "execution_count": null,
   "id": "36e94df4",
   "metadata": {},
   "outputs": [],
   "source": [
    "list(protocols[1])"
   ]
  },
  {
   "cell_type": "code",
   "execution_count": null,
   "id": "f4d53938",
   "metadata": {},
   "outputs": [],
   "source": [
    "X2_bayes = tox21_two_assays[['FpDensityMorgan2', 'BCUT2D_LOGPLOW','FractionCSP3']]\n",
    "X2_bayes.insert(0,'Intercept',1)\n",
    "Y2_bayes = pd.factorize(tox21_two_assays.CHANNEL_OUTCOME)"
   ]
  },
  {
   "cell_type": "code",
   "execution_count": null,
   "id": "42baa406",
   "metadata": {},
   "outputs": [],
   "source": [
    "X2_bayes.head()"
   ]
  },
  {
   "cell_type": "code",
   "execution_count": null,
   "id": "1c9505e4",
   "metadata": {},
   "outputs": [],
   "source": [
    "coords = {\n",
    "    'obs_id': np.arange(X2_bayes.shape[0]),\n",
    "    'protocol':list(protocols[1]),\n",
    "    'params':['beta_{0}'.format(i) for i in range(X2_bayes.shape[1])]\n",
    "}\n",
    "print(coords)"
   ]
  },
  {
   "cell_type": "code",
   "execution_count": null,
   "id": "7fa25b96",
   "metadata": {},
   "outputs": [],
   "source": [
    "#https://docs.pymc.io/en/v3/pymc-examples/examples/case_studies/multilevel_modeling.html\n",
    "with pm.Model(coords=coords) as random_slope_model:\n",
    "    protocol_idx = pm.Data(\"protocol_idx\", list(protocols[0]),dims='obs_id')\n",
    "    \n",
    "    # prior stddev in intercepts & slopes (variation across protocol):\n",
    "    sd_dist = pm.Exponential.dist(1)\n",
    "    \n",
    "    # get back standard deviations and rho:\n",
    "    chol, corr, stds = pm.LKJCholeskyCov(\"chol\", n=X2_bayes.shape[1], eta=2.0, sd_dist=sd_dist, compute_corr=True)\n",
    "    \n",
    "    #priors for average betas:\n",
    "    beta_list = []\n",
    "    for i in range(X2_bayes.shape[1]):\n",
    "        beta_list.append(pm.Normal('beta_{0}'.format(i), mu=0.0,sigma=3.0))\n",
    "    \n",
    "    #population of varying protocol effects:\n",
    "    beta_protocol = pm.MvNormal(\"beta_protocol\", mu=T.stack(beta_list), chol=chol,dims=('protocol','params'))\n",
    "    \n",
    "    #Expected value per protocol:\n",
    "    theta = beta_protocol[protocol_idx,0]* X2_bayes.iloc[:,0]\n",
    "    for i in range(1,X2_bayes.shape[1]):\n",
    "        theta += beta_protocol[protocol_idx,i] * X2_bayes.iloc[:,i]\n",
    "    \n",
    "    ##Example -- if it were a linear regression\n",
    "    # Model error:\n",
    "    #sigma = pm.Exponential(\"sigma\", 1.0)\n",
    "\n",
    "    #y = pm.Normal(\"y\", theta, sigma=sigma, observed=Y2_bayes[0], dims=\"obs_id\")\n",
    "    p = 1.0 / (1.0 + T.exp(-theta ))\n",
    "    likelihood = pm.Bernoulli('likelihood', p, observed=Y2_bayes[0],dims=\"obs_id\")\n"
   ]
  },
  {
   "cell_type": "code",
   "execution_count": null,
   "id": "3e0d2296",
   "metadata": {},
   "outputs": [],
   "source": [
    "pm.model_to_graphviz(random_slope_model)"
   ]
  },
  {
   "cell_type": "code",
   "execution_count": null,
   "id": "32c95b06",
   "metadata": {},
   "outputs": [],
   "source": [
    "with random_slope_model:\n",
    "    tr = pm.sample(500, tune=500, init=\"adapt_diag\",chains=4,cores=8)\n",
    "\n"
   ]
  },
  {
   "cell_type": "code",
   "execution_count": null,
   "id": "05722428",
   "metadata": {},
   "outputs": [],
   "source": [
    "with random_slope_model:\n",
    "    az.plot_forest(\n",
    "        tr,\n",
    "        combined=True,\n",
    "        var_names=[\"beta_protocol\"],\n",
    "        figsize=(10, 10),\n",
    "        textsize=14,\n",
    "    )"
   ]
  },
  {
   "cell_type": "markdown",
   "id": "7907b417",
   "metadata": {},
   "source": [
    "## Construct an assay level variable and simulate two additional assays to create a 4 assay model with an assay level predictor"
   ]
  },
  {
   "cell_type": "code",
   "execution_count": null,
   "id": "452d2fa8",
   "metadata": {},
   "outputs": [],
   "source": [
    "tox21_two_assays.head()"
   ]
  },
  {
   "cell_type": "code",
   "execution_count": null,
   "id": "22ff3f91",
   "metadata": {},
   "outputs": [],
   "source": [
    "organism = ['human' for i in range(tox21_two_assays.shape[0])] + ['mouse' for i in range(tox21_two_assays.shape[0])]"
   ]
  },
  {
   "cell_type": "code",
   "execution_count": null,
   "id": "22fccc40",
   "metadata": {},
   "outputs": [],
   "source": [
    "new_protocol = [i + '-' + v for i,v in zip(pd.concat([tox21_two_assays['PROTOCOL_NAME'],tox21_two_assays['PROTOCOL_NAME']]),organism)]"
   ]
  },
  {
   "cell_type": "code",
   "execution_count": null,
   "id": "51d2af46",
   "metadata": {},
   "outputs": [],
   "source": [
    "tox21_two_assays['CHANNEL_OUTCOME'].value_counts()"
   ]
  },
  {
   "cell_type": "code",
   "execution_count": null,
   "id": "e99de767",
   "metadata": {},
   "outputs": [],
   "source": [
    "simulated_two_assays = tox21_two_assays.copy()\n",
    "fp_density_scale = (simulated_two_assays['FpDensityMorgan2'] - simulated_two_assays['FpDensityMorgan2'].min()) / (simulated_two_assays['FpDensityMorgan2'].max() - simulated_two_assays['FpDensityMorgan2'].min())\n",
    "fp_density_scale\n",
    "\n",
    "new_outcome = []\n",
    "for i,v in zip(simulated_two_assays['CHANNEL_OUTCOME'],fp_density_scale/10.0):\n",
    "    rv = random.random()\n",
    "    if i == \"inactive\":\n",
    "        if (rv + v)>1:\n",
    "            print((i,v,rv,rv+v))\n",
    "            new_outcome.append('active antagonist')\n",
    "        else:\n",
    "            new_outcome.append(i)\n",
    "    else:\n",
    "        if (rv + v)<0.1:\n",
    "            print((i,v,rv,rv+v))\n",
    "            new_outcome.append('inactive')\n",
    "        else:\n",
    "            new_outcome.append(i)\n",
    "\n",
    "simulated_two_assays['CHANNEL_OUTCOME'] = new_outcome"
   ]
  },
  {
   "cell_type": "code",
   "execution_count": null,
   "id": "3bcfc002",
   "metadata": {},
   "outputs": [],
   "source": [
    "simulated_two_assays['CHANNEL_OUTCOME'].value_counts()"
   ]
  },
  {
   "cell_type": "code",
   "execution_count": null,
   "id": "e9338a52",
   "metadata": {},
   "outputs": [],
   "source": [
    "four_assay_simulated = pd.concat([tox21_two_assays,simulated_two_assays])\n",
    "four_assay_simulated['PROTOCOL_NAME'] = new_protocol\n",
    "four_assay_simulated.insert(2,'ORGANISM',organism)\n",
    "four_assay_simulated.reset_index(drop=True,inplace=True)"
   ]
  },
  {
   "cell_type": "code",
   "execution_count": null,
   "id": "ec4fcdca",
   "metadata": {},
   "outputs": [],
   "source": [
    "four_assay_simulated.head()"
   ]
  },
  {
   "cell_type": "code",
   "execution_count": null,
   "id": "c0c462a3",
   "metadata": {},
   "outputs": [],
   "source": [
    "four_assay_simulated.tail()"
   ]
  },
  {
   "cell_type": "code",
   "execution_count": null,
   "id": "cf42a2bf",
   "metadata": {},
   "outputs": [],
   "source": [
    "simulated_protocols = pd.factorize(four_assay_simulated.PROTOCOL_NAME)"
   ]
  },
  {
   "cell_type": "code",
   "execution_count": null,
   "id": "9cbec5f3",
   "metadata": {},
   "outputs": [],
   "source": [
    "#organisms =  pd.factorize(four_assay_simulated.ORGANISM)"
   ]
  },
  {
   "cell_type": "code",
   "execution_count": null,
   "id": "507c10f0",
   "metadata": {},
   "outputs": [],
   "source": [
    "#To busy to figure out the right way to do this\n",
    "organisms = [0,0,1,1]"
   ]
  },
  {
   "cell_type": "code",
   "execution_count": null,
   "id": "6af474c1",
   "metadata": {},
   "outputs": [],
   "source": [
    "X4_bayes = four_assay_simulated[['FpDensityMorgan2', 'BCUT2D_LOGPLOW','FractionCSP3']]\n",
    "X4_bayes.insert(0,'Intercept',1)\n",
    "Y4_bayes = pd.factorize(four_assay_simulated.CHANNEL_OUTCOME)"
   ]
  },
  {
   "cell_type": "code",
   "execution_count": null,
   "id": "74bc21ea",
   "metadata": {},
   "outputs": [],
   "source": [
    "coords_simulated = {\n",
    "    'obs_id': np.arange(X4_bayes.shape[0]),\n",
    "    'protocol':list(simulated_protocols[1]),\n",
    "    'params':['beta_{0}'.format(i) for i in range(X4_bayes.shape[1])]\n",
    "}"
   ]
  },
  {
   "cell_type": "code",
   "execution_count": null,
   "id": "f5dd51d6",
   "metadata": {},
   "outputs": [],
   "source": [
    "coords_simulated"
   ]
  },
  {
   "cell_type": "markdown",
   "id": "b461e772",
   "metadata": {},
   "source": [
    "## Mathematical notation of the model\n",
    "$$ Y \\sim Bernoulli(\\mu)$$\n",
    "$$ \\mu = g^{-1}(X\\beta_{prot})$$\n",
    "$$\\beta_{prot} \\sim MvNormal(\\mu_{prot},\\Sigma)$$\n",
    "$$\\mu_{prot} = \\gamma_0 + \\gamma_1 * organism + \\epsilon$$\n",
    "$$\\gamma \\sim N(0,10)$$\n",
    "$$\\epsilon \\sim N(0,\\sigma^{2}_{\\gamma})$$\n"
   ]
  },
  {
   "cell_type": "code",
   "execution_count": null,
   "id": "0534e4be",
   "metadata": {},
   "outputs": [],
   "source": [
    "#https://docs.pymc.io/en/v3/pymc-examples/examples/case_studies/multilevel_modeling.html\n",
    "with pm.Model(coords=coords_simulated) as assay_level_model:\n",
    "    protocol_idx = pm.Data(\"protocol_idx\", list(simulated_protocols[0]),dims='obs_id')\n",
    "    organism_idx = pm.Data(\"organism_idx\", organisms, dims=\"protocol\")\n",
    "    \n",
    "    # prior stddev in intercepts & slopes (variation across protocol):\n",
    "    sd_dist = pm.Exponential.dist(1)\n",
    "    \n",
    "    # get back standard deviations and rho:\n",
    "    chol, corr, stds = pm.LKJCholeskyCov(\"chol\", n=X4_bayes.shape[1], eta=2.0, sd_dist=sd_dist, compute_corr=True)\n",
    "    \n",
    "    #hyperpriors and priors for average betas:\n",
    "    beta_list = []\n",
    "    for i in range(X4_bayes.shape[1]):\n",
    "        gbeta = pm.Normal(\"g_beta_{0}\".format(i), mu=0.0, sigma=10.0, shape=2)\n",
    "        mu_gbeta = gbeta[0] + gbeta[1] * organism_idx\n",
    "        beta_list.append(pm.Normal('beta_{0}'.format(i), mu=mu_gbeta,sigma=3.0,dims=\"protocol\"))\n",
    "    \n",
    "    #population of varying protocol effects:\n",
    "    beta_protocol = pm.MvNormal(\"beta_protocol\", mu=T.stack(beta_list), chol=chol,dims=('protocol','params'))\n",
    "    \n",
    "    #Expected value per protocol:\n",
    "    theta = beta_protocol[protocol_idx,0]* X4_bayes.iloc[:,0]\n",
    "    for i in range(1,X4_bayes.shape[1]):\n",
    "        theta += beta_protocol[protocol_idx,i] * X4_bayes.iloc[:,i]\n",
    "    \n",
    "    ##Example -- if it were a linear regression\n",
    "    # Model error:\n",
    "    #sigma = pm.Exponential(\"sigma\", 1.0)\n",
    "\n",
    "    #y = pm.Normal(\"y\", theta, sigma=sigma, observed=Y2_bayes[0], dims=\"obs_id\")\n",
    "    p = 1.0 / (1.0 + T.exp(-theta ))\n",
    "    likelihood = pm.Bernoulli('likelihood', p, observed=Y4_bayes[0],dims=\"obs_id\")"
   ]
  },
  {
   "cell_type": "code",
   "execution_count": 208,
   "id": "f05e9bdb",
   "metadata": {},
   "outputs": [
    {
     "data": {
      "image/svg+xml": [
       "<?xml version=\"1.0\" encoding=\"UTF-8\" standalone=\"no\"?>\n",
       "<!DOCTYPE svg PUBLIC \"-//W3C//DTD SVG 1.1//EN\"\n",
       " \"http://www.w3.org/Graphics/SVG/1.1/DTD/svg11.dtd\">\n",
       "<!-- Generated by graphviz version 2.42.3 (20191010.1750)\n",
       " -->\n",
       "<!-- Title: %3 Pages: 1 -->\n",
       "<svg width=\"991pt\" height=\"610pt\"\n",
       " viewBox=\"0.00 0.00 991.00 609.77\" xmlns=\"http://www.w3.org/2000/svg\" xmlns:xlink=\"http://www.w3.org/1999/xlink\">\n",
       "<g id=\"graph0\" class=\"graph\" transform=\"scale(1 1) rotate(0) translate(4 605.77)\">\n",
       "<title>%3</title>\n",
       "<polygon fill=\"white\" stroke=\"transparent\" points=\"-4,4 -4,-605.77 987,-605.77 987,4 -4,4\"/>\n",
       "<g id=\"clust1\" class=\"cluster\">\n",
       "<title>cluster36,998</title>\n",
       "<path fill=\"none\" stroke=\"black\" d=\"M126,-8C126,-8 218,-8 218,-8 224,-8 230,-14 230,-20 230,-20 230,-212.93 230,-212.93 230,-218.93 224,-224.93 218,-224.93 218,-224.93 126,-224.93 126,-224.93 120,-224.93 114,-218.93 114,-212.93 114,-212.93 114,-20 114,-20 114,-14 120,-8 126,-8\"/>\n",
       "<text text-anchor=\"middle\" x=\"203\" y=\"-15.8\" font-family=\"Times,serif\" font-size=\"14.00\">36,998</text>\n",
       "</g>\n",
       "<g id=\"clust2\" class=\"cluster\">\n",
       "<title>cluster4</title>\n",
       "<path fill=\"none\" stroke=\"black\" d=\"M20,-243.91C20,-243.91 399,-243.91 399,-243.91 405,-243.91 411,-249.91 411,-255.91 411,-255.91 411,-448.84 411,-448.84 411,-454.84 405,-460.84 399,-460.84 399,-460.84 20,-460.84 20,-460.84 14,-460.84 8,-454.84 8,-448.84 8,-448.84 8,-255.91 8,-255.91 8,-249.91 14,-243.91 20,-243.91\"/>\n",
       "<text text-anchor=\"middle\" x=\"399.5\" y=\"-251.71\" font-family=\"Times,serif\" font-size=\"14.00\">4</text>\n",
       "</g>\n",
       "<g id=\"clust3\" class=\"cluster\">\n",
       "<title>cluster10</title>\n",
       "<path fill=\"none\" stroke=\"black\" d=\"M801,-479.81C801,-479.81 963,-479.81 963,-479.81 969,-479.81 975,-485.81 975,-491.81 975,-491.81 975,-581.77 975,-581.77 975,-587.77 969,-593.77 963,-593.77 963,-593.77 801,-593.77 801,-593.77 795,-593.77 789,-587.77 789,-581.77 789,-581.77 789,-491.81 789,-491.81 789,-485.81 795,-479.81 801,-479.81\"/>\n",
       "<text text-anchor=\"middle\" x=\"960\" y=\"-487.61\" font-family=\"Times,serif\" font-size=\"14.00\">10</text>\n",
       "</g>\n",
       "<g id=\"clust4\" class=\"cluster\">\n",
       "<title>cluster4 x 4</title>\n",
       "<path fill=\"none\" stroke=\"black\" d=\"M250,-121.95C250,-121.95 480,-121.95 480,-121.95 486,-121.95 492,-127.95 492,-133.95 492,-133.95 492,-223.91 492,-223.91 492,-229.91 486,-235.91 480,-235.91 480,-235.91 250,-235.91 250,-235.91 244,-235.91 238,-229.91 238,-223.91 238,-223.91 238,-133.95 238,-133.95 238,-127.95 244,-121.95 250,-121.95\"/>\n",
       "<text text-anchor=\"middle\" x=\"470\" y=\"-129.75\" font-family=\"Times,serif\" font-size=\"14.00\">4 x 4</text>\n",
       "</g>\n",
       "<g id=\"clust5\" class=\"cluster\">\n",
       "<title>cluster2</title>\n",
       "<path fill=\"none\" stroke=\"black\" d=\"M431,-357.86C431,-357.86 850,-357.86 850,-357.86 856,-357.86 862,-363.86 862,-369.86 862,-369.86 862,-459.81 862,-459.81 862,-465.81 856,-471.81 850,-471.81 850,-471.81 431,-471.81 431,-471.81 425,-471.81 419,-465.81 419,-459.81 419,-459.81 419,-369.86 419,-369.86 419,-363.86 425,-357.86 431,-357.86\"/>\n",
       "<text text-anchor=\"middle\" x=\"850.5\" y=\"-365.66\" font-family=\"Times,serif\" font-size=\"14.00\">2</text>\n",
       "</g>\n",
       "<!-- protocol_idx -->\n",
       "<g id=\"node1\" class=\"node\">\n",
       "<title>protocol_idx</title>\n",
       "<path fill=\"lightgrey\" stroke=\"black\" d=\"M203,-216.93C203,-216.93 141,-216.93 141,-216.93 135,-216.93 129,-210.93 129,-204.93 129,-204.93 129,-175.93 129,-175.93 129,-169.93 135,-163.93 141,-163.93 141,-163.93 203,-163.93 203,-163.93 209,-163.93 215,-169.93 215,-175.93 215,-175.93 215,-204.93 215,-204.93 215,-210.93 209,-216.93 203,-216.93\"/>\n",
       "<text text-anchor=\"middle\" x=\"172\" y=\"-201.73\" font-family=\"Times,serif\" font-size=\"14.00\">protocol_idx</text>\n",
       "<text text-anchor=\"middle\" x=\"172\" y=\"-186.73\" font-family=\"Times,serif\" font-size=\"14.00\">~</text>\n",
       "<text text-anchor=\"middle\" x=\"172\" y=\"-171.73\" font-family=\"Times,serif\" font-size=\"14.00\">Data</text>\n",
       "</g>\n",
       "<!-- likelihood -->\n",
       "<g id=\"node2\" class=\"node\">\n",
       "<title>likelihood</title>\n",
       "<ellipse fill=\"lightgrey\" stroke=\"black\" cx=\"172\" cy=\"-76.48\" rx=\"50.41\" ry=\"37.45\"/>\n",
       "<text text-anchor=\"middle\" x=\"172\" y=\"-87.78\" font-family=\"Times,serif\" font-size=\"14.00\">likelihood</text>\n",
       "<text text-anchor=\"middle\" x=\"172\" y=\"-72.78\" font-family=\"Times,serif\" font-size=\"14.00\">~</text>\n",
       "<text text-anchor=\"middle\" x=\"172\" y=\"-57.78\" font-family=\"Times,serif\" font-size=\"14.00\">Bernoulli</text>\n",
       "</g>\n",
       "<!-- protocol_idx&#45;&gt;likelihood -->\n",
       "<g id=\"edge16\" class=\"edge\">\n",
       "<title>protocol_idx&#45;&gt;likelihood</title>\n",
       "<path fill=\"none\" stroke=\"black\" d=\"M172,-163.75C172,-152.02 172,-137.75 172,-124.22\"/>\n",
       "<polygon fill=\"black\" stroke=\"black\" points=\"175.5,-124.07 172,-114.07 168.5,-124.07 175.5,-124.07\"/>\n",
       "</g>\n",
       "<!-- beta_0 -->\n",
       "<g id=\"node3\" class=\"node\">\n",
       "<title>beta_0</title>\n",
       "<ellipse fill=\"none\" stroke=\"black\" cx=\"260\" cy=\"-312.38\" rx=\"41.94\" ry=\"37.45\"/>\n",
       "<text text-anchor=\"middle\" x=\"260\" y=\"-323.68\" font-family=\"Times,serif\" font-size=\"14.00\">beta_0</text>\n",
       "<text text-anchor=\"middle\" x=\"260\" y=\"-308.68\" font-family=\"Times,serif\" font-size=\"14.00\">~</text>\n",
       "<text text-anchor=\"middle\" x=\"260\" y=\"-293.68\" font-family=\"Times,serif\" font-size=\"14.00\">Normal</text>\n",
       "</g>\n",
       "<!-- beta_protocol -->\n",
       "<g id=\"node11\" class=\"node\">\n",
       "<title>beta_protocol</title>\n",
       "<ellipse fill=\"none\" stroke=\"black\" cx=\"310\" cy=\"-190.43\" rx=\"64.19\" ry=\"37.45\"/>\n",
       "<text text-anchor=\"middle\" x=\"310\" y=\"-201.73\" font-family=\"Times,serif\" font-size=\"14.00\">beta_protocol</text>\n",
       "<text text-anchor=\"middle\" x=\"310\" y=\"-186.73\" font-family=\"Times,serif\" font-size=\"14.00\">~</text>\n",
       "<text text-anchor=\"middle\" x=\"310\" y=\"-171.73\" font-family=\"Times,serif\" font-size=\"14.00\">MvNormal</text>\n",
       "</g>\n",
       "<!-- beta_0&#45;&gt;beta_protocol -->\n",
       "<g id=\"edge11\" class=\"edge\">\n",
       "<title>beta_0&#45;&gt;beta_protocol</title>\n",
       "<path fill=\"none\" stroke=\"black\" d=\"M274.33,-277.01C279.58,-264.42 285.6,-249.98 291.18,-236.58\"/>\n",
       "<polygon fill=\"black\" stroke=\"black\" points=\"294.53,-237.64 295.15,-227.06 288.07,-234.94 294.53,-237.64\"/>\n",
       "</g>\n",
       "<!-- beta_1 -->\n",
       "<g id=\"node4\" class=\"node\">\n",
       "<title>beta_1</title>\n",
       "<ellipse fill=\"none\" stroke=\"black\" cx=\"361\" cy=\"-312.38\" rx=\"41.94\" ry=\"37.45\"/>\n",
       "<text text-anchor=\"middle\" x=\"361\" y=\"-323.68\" font-family=\"Times,serif\" font-size=\"14.00\">beta_1</text>\n",
       "<text text-anchor=\"middle\" x=\"361\" y=\"-308.68\" font-family=\"Times,serif\" font-size=\"14.00\">~</text>\n",
       "<text text-anchor=\"middle\" x=\"361\" y=\"-293.68\" font-family=\"Times,serif\" font-size=\"14.00\">Normal</text>\n",
       "</g>\n",
       "<!-- beta_1&#45;&gt;beta_protocol -->\n",
       "<g id=\"edge12\" class=\"edge\">\n",
       "<title>beta_1&#45;&gt;beta_protocol</title>\n",
       "<path fill=\"none\" stroke=\"black\" d=\"M346.39,-277.01C341.03,-264.42 334.89,-249.98 329.2,-236.58\"/>\n",
       "<polygon fill=\"black\" stroke=\"black\" points=\"332.28,-234.89 325.15,-227.06 325.84,-237.63 332.28,-234.89\"/>\n",
       "</g>\n",
       "<!-- beta_2 -->\n",
       "<g id=\"node5\" class=\"node\">\n",
       "<title>beta_2</title>\n",
       "<ellipse fill=\"none\" stroke=\"black\" cx=\"58\" cy=\"-312.38\" rx=\"41.94\" ry=\"37.45\"/>\n",
       "<text text-anchor=\"middle\" x=\"58\" y=\"-323.68\" font-family=\"Times,serif\" font-size=\"14.00\">beta_2</text>\n",
       "<text text-anchor=\"middle\" x=\"58\" y=\"-308.68\" font-family=\"Times,serif\" font-size=\"14.00\">~</text>\n",
       "<text text-anchor=\"middle\" x=\"58\" y=\"-293.68\" font-family=\"Times,serif\" font-size=\"14.00\">Normal</text>\n",
       "</g>\n",
       "<!-- beta_2&#45;&gt;beta_protocol -->\n",
       "<g id=\"edge13\" class=\"edge\">\n",
       "<title>beta_2&#45;&gt;beta_protocol</title>\n",
       "<path fill=\"none\" stroke=\"black\" d=\"M74.72,-277.7C82.9,-264.86 94.04,-251.5 108,-243.91 132.65,-230.5 207.17,-244.1 234,-235.91 242.91,-233.18 251.89,-229.24 260.39,-224.8\"/>\n",
       "<polygon fill=\"black\" stroke=\"black\" points=\"262.34,-227.73 269.41,-219.83 258.96,-221.59 262.34,-227.73\"/>\n",
       "</g>\n",
       "<!-- organism_idx -->\n",
       "<g id=\"node6\" class=\"node\">\n",
       "<title>organism_idx</title>\n",
       "<path fill=\"lightgrey\" stroke=\"black\" d=\"M294,-452.84C294,-452.84 226,-452.84 226,-452.84 220,-452.84 214,-446.84 214,-440.84 214,-440.84 214,-411.84 214,-411.84 214,-405.84 220,-399.84 226,-399.84 226,-399.84 294,-399.84 294,-399.84 300,-399.84 306,-405.84 306,-411.84 306,-411.84 306,-440.84 306,-440.84 306,-446.84 300,-452.84 294,-452.84\"/>\n",
       "<text text-anchor=\"middle\" x=\"260\" y=\"-437.64\" font-family=\"Times,serif\" font-size=\"14.00\">organism_idx</text>\n",
       "<text text-anchor=\"middle\" x=\"260\" y=\"-422.64\" font-family=\"Times,serif\" font-size=\"14.00\">~</text>\n",
       "<text text-anchor=\"middle\" x=\"260\" y=\"-407.64\" font-family=\"Times,serif\" font-size=\"14.00\">Data</text>\n",
       "</g>\n",
       "<!-- organism_idx&#45;&gt;beta_0 -->\n",
       "<g id=\"edge3\" class=\"edge\">\n",
       "<title>organism_idx&#45;&gt;beta_0</title>\n",
       "<path fill=\"none\" stroke=\"black\" d=\"M260,-399.65C260,-387.92 260,-373.66 260,-360.13\"/>\n",
       "<polygon fill=\"black\" stroke=\"black\" points=\"263.5,-359.98 260,-349.98 256.5,-359.98 263.5,-359.98\"/>\n",
       "</g>\n",
       "<!-- organism_idx&#45;&gt;beta_1 -->\n",
       "<g id=\"edge6\" class=\"edge\">\n",
       "<title>organism_idx&#45;&gt;beta_1</title>\n",
       "<path fill=\"none\" stroke=\"black\" d=\"M283.17,-399.65C296.48,-384.9 313.42,-366.12 328.1,-349.85\"/>\n",
       "<polygon fill=\"black\" stroke=\"black\" points=\"330.99,-351.87 335.09,-342.1 325.8,-347.18 330.99,-351.87\"/>\n",
       "</g>\n",
       "<!-- organism_idx&#45;&gt;beta_2 -->\n",
       "<g id=\"edge8\" class=\"edge\">\n",
       "<title>organism_idx&#45;&gt;beta_2</title>\n",
       "<path fill=\"none\" stroke=\"black\" d=\"M245.85,-399.72C236.15,-384.8 221.82,-367.15 204,-357.86 166.04,-338.07 148.12,-364.81 108,-349.86 104.04,-348.38 100.11,-346.5 96.3,-344.36\"/>\n",
       "<polygon fill=\"black\" stroke=\"black\" points=\"98.01,-341.31 87.67,-339.01 94.32,-347.25 98.01,-341.31\"/>\n",
       "</g>\n",
       "<!-- beta_3 -->\n",
       "<g id=\"node7\" class=\"node\">\n",
       "<title>beta_3</title>\n",
       "<ellipse fill=\"none\" stroke=\"black\" cx=\"159\" cy=\"-312.38\" rx=\"41.94\" ry=\"37.45\"/>\n",
       "<text text-anchor=\"middle\" x=\"159\" y=\"-323.68\" font-family=\"Times,serif\" font-size=\"14.00\">beta_3</text>\n",
       "<text text-anchor=\"middle\" x=\"159\" y=\"-308.68\" font-family=\"Times,serif\" font-size=\"14.00\">~</text>\n",
       "<text text-anchor=\"middle\" x=\"159\" y=\"-293.68\" font-family=\"Times,serif\" font-size=\"14.00\">Normal</text>\n",
       "</g>\n",
       "<!-- organism_idx&#45;&gt;beta_3 -->\n",
       "<g id=\"edge9\" class=\"edge\">\n",
       "<title>organism_idx&#45;&gt;beta_3</title>\n",
       "<path fill=\"none\" stroke=\"black\" d=\"M239.57,-399.52C229.2,-386.73 216.24,-371.21 204,-357.86 200.91,-354.49 197.64,-351.04 194.32,-347.62\"/>\n",
       "<polygon fill=\"black\" stroke=\"black\" points=\"196.56,-344.91 187.04,-340.25 191.57,-349.83 196.56,-344.91\"/>\n",
       "</g>\n",
       "<!-- beta_3&#45;&gt;beta_protocol -->\n",
       "<g id=\"edge14\" class=\"edge\">\n",
       "<title>beta_3&#45;&gt;beta_protocol</title>\n",
       "<path fill=\"none\" stroke=\"black\" d=\"M177.21,-278.65C185.5,-266.27 196.32,-252.99 209,-243.91 218.49,-237.11 223.35,-240.66 234,-235.91 242.01,-232.33 250.25,-228.12 258.22,-223.75\"/>\n",
       "<polygon fill=\"black\" stroke=\"black\" points=\"260.07,-226.72 267.06,-218.76 256.63,-220.62 260.07,-226.72\"/>\n",
       "</g>\n",
       "<!-- chol_stds -->\n",
       "<g id=\"node8\" class=\"node\">\n",
       "<title>chol_stds</title>\n",
       "<polygon fill=\"none\" stroke=\"black\" points=\"195.5,-452.84 104.5,-452.84 104.5,-399.84 195.5,-399.84 195.5,-452.84\"/>\n",
       "<text text-anchor=\"middle\" x=\"150\" y=\"-437.64\" font-family=\"Times,serif\" font-size=\"14.00\">chol_stds</text>\n",
       "<text text-anchor=\"middle\" x=\"150\" y=\"-422.64\" font-family=\"Times,serif\" font-size=\"14.00\">~</text>\n",
       "<text text-anchor=\"middle\" x=\"150\" y=\"-407.64\" font-family=\"Times,serif\" font-size=\"14.00\">Deterministic</text>\n",
       "</g>\n",
       "<!-- chol -->\n",
       "<g id=\"node9\" class=\"node\">\n",
       "<title>chol</title>\n",
       "<ellipse fill=\"none\" stroke=\"black\" cx=\"882\" cy=\"-548.29\" rx=\"84.71\" ry=\"37.45\"/>\n",
       "<text text-anchor=\"middle\" x=\"882\" y=\"-559.59\" font-family=\"Times,serif\" font-size=\"14.00\">chol</text>\n",
       "<text text-anchor=\"middle\" x=\"882\" y=\"-544.59\" font-family=\"Times,serif\" font-size=\"14.00\">~</text>\n",
       "<text text-anchor=\"middle\" x=\"882\" y=\"-529.59\" font-family=\"Times,serif\" font-size=\"14.00\">_LKJCholeskyCov</text>\n",
       "</g>\n",
       "<!-- chol&#45;&gt;chol_stds -->\n",
       "<g id=\"edge1\" class=\"edge\">\n",
       "<title>chol&#45;&gt;chol_stds</title>\n",
       "<path fill=\"none\" stroke=\"black\" d=\"M797.7,-543.79C640.77,-536.3 310.18,-515.73 205,-471.81 197.51,-468.69 190.22,-464.21 183.53,-459.29\"/>\n",
       "<polygon fill=\"black\" stroke=\"black\" points=\"185.42,-456.32 175.4,-452.88 181.09,-461.82 185.42,-456.32\"/>\n",
       "</g>\n",
       "<!-- chol_corr -->\n",
       "<g id=\"node10\" class=\"node\">\n",
       "<title>chol_corr</title>\n",
       "<polygon fill=\"none\" stroke=\"black\" points=\"483.5,-216.93 392.5,-216.93 392.5,-163.93 483.5,-163.93 483.5,-216.93\"/>\n",
       "<text text-anchor=\"middle\" x=\"438\" y=\"-201.73\" font-family=\"Times,serif\" font-size=\"14.00\">chol_corr</text>\n",
       "<text text-anchor=\"middle\" x=\"438\" y=\"-186.73\" font-family=\"Times,serif\" font-size=\"14.00\">~</text>\n",
       "<text text-anchor=\"middle\" x=\"438\" y=\"-171.73\" font-family=\"Times,serif\" font-size=\"14.00\">Deterministic</text>\n",
       "</g>\n",
       "<!-- chol&#45;&gt;chol_corr -->\n",
       "<g id=\"edge2\" class=\"edge\">\n",
       "<title>chol&#45;&gt;chol_corr</title>\n",
       "<path fill=\"none\" stroke=\"black\" d=\"M898.01,-511.11C923.09,-448.2 962.33,-318.27 896,-243.91 869.63,-214.34 610.01,-199.11 493.77,-193.74\"/>\n",
       "<polygon fill=\"black\" stroke=\"black\" points=\"493.8,-190.23 483.65,-193.28 493.48,-197.23 493.8,-190.23\"/>\n",
       "</g>\n",
       "<!-- chol&#45;&gt;beta_protocol -->\n",
       "<g id=\"edge15\" class=\"edge\">\n",
       "<title>chol&#45;&gt;beta_protocol</title>\n",
       "<path fill=\"none\" stroke=\"black\" d=\"M890.28,-510.89C897.53,-468.91 901.98,-400.26 866,-357.86 861.53,-352.59 390.37,-238.56 384,-235.91 376.14,-232.64 368.13,-228.63 360.42,-224.37\"/>\n",
       "<polygon fill=\"black\" stroke=\"black\" points=\"361.95,-221.21 351.53,-219.29 358.47,-227.29 361.95,-221.21\"/>\n",
       "</g>\n",
       "<!-- beta_protocol&#45;&gt;likelihood -->\n",
       "<g id=\"edge17\" class=\"edge\">\n",
       "<title>beta_protocol&#45;&gt;likelihood</title>\n",
       "<path fill=\"none\" stroke=\"black\" d=\"M276.22,-158.09C263.27,-146.44 248.2,-133.3 234,-121.95 228.38,-117.46 222.35,-112.87 216.35,-108.43\"/>\n",
       "<polygon fill=\"black\" stroke=\"black\" points=\"218.35,-105.56 208.21,-102.49 214.22,-111.21 218.35,-105.56\"/>\n",
       "</g>\n",
       "<!-- g_beta_2 -->\n",
       "<g id=\"node12\" class=\"node\">\n",
       "<title>g_beta_2</title>\n",
       "<ellipse fill=\"none\" stroke=\"black\" cx=\"474\" cy=\"-426.34\" rx=\"46.84\" ry=\"37.45\"/>\n",
       "<text text-anchor=\"middle\" x=\"474\" y=\"-437.64\" font-family=\"Times,serif\" font-size=\"14.00\">g_beta_2</text>\n",
       "<text text-anchor=\"middle\" x=\"474\" y=\"-422.64\" font-family=\"Times,serif\" font-size=\"14.00\">~</text>\n",
       "<text text-anchor=\"middle\" x=\"474\" y=\"-407.64\" font-family=\"Times,serif\" font-size=\"14.00\">Normal</text>\n",
       "</g>\n",
       "<!-- g_beta_2&#45;&gt;beta_2 -->\n",
       "<g id=\"edge7\" class=\"edge\">\n",
       "<title>g_beta_2&#45;&gt;beta_2</title>\n",
       "<path fill=\"none\" stroke=\"black\" d=\"M453.97,-392.34C444.04,-379.11 430.77,-365.27 415,-357.86 384.12,-343.35 140.3,-360.86 108,-349.86 103.94,-348.48 99.93,-346.64 96.05,-344.52\"/>\n",
       "<polygon fill=\"black\" stroke=\"black\" points=\"97.64,-341.39 87.28,-339.15 93.98,-347.36 97.64,-341.39\"/>\n",
       "</g>\n",
       "<!-- g_beta_1 -->\n",
       "<g id=\"node13\" class=\"node\">\n",
       "<title>g_beta_1</title>\n",
       "<ellipse fill=\"none\" stroke=\"black\" cx=\"807\" cy=\"-426.34\" rx=\"46.84\" ry=\"37.45\"/>\n",
       "<text text-anchor=\"middle\" x=\"807\" y=\"-437.64\" font-family=\"Times,serif\" font-size=\"14.00\">g_beta_1</text>\n",
       "<text text-anchor=\"middle\" x=\"807\" y=\"-422.64\" font-family=\"Times,serif\" font-size=\"14.00\">~</text>\n",
       "<text text-anchor=\"middle\" x=\"807\" y=\"-407.64\" font-family=\"Times,serif\" font-size=\"14.00\">Normal</text>\n",
       "</g>\n",
       "<!-- g_beta_1&#45;&gt;beta_1 -->\n",
       "<g id=\"edge5\" class=\"edge\">\n",
       "<title>g_beta_1&#45;&gt;beta_1</title>\n",
       "<path fill=\"none\" stroke=\"black\" d=\"M787.72,-391.96C778.57,-379.16 766.46,-365.76 752,-357.86 694.85,-326.63 505.96,-317.25 413.25,-314.49\"/>\n",
       "<polygon fill=\"black\" stroke=\"black\" points=\"413.07,-310.99 402.98,-314.2 412.87,-317.98 413.07,-310.99\"/>\n",
       "</g>\n",
       "<!-- g_beta_0 -->\n",
       "<g id=\"node14\" class=\"node\">\n",
       "<title>g_beta_0</title>\n",
       "<ellipse fill=\"none\" stroke=\"black\" cx=\"696\" cy=\"-426.34\" rx=\"46.84\" ry=\"37.45\"/>\n",
       "<text text-anchor=\"middle\" x=\"696\" y=\"-437.64\" font-family=\"Times,serif\" font-size=\"14.00\">g_beta_0</text>\n",
       "<text text-anchor=\"middle\" x=\"696\" y=\"-422.64\" font-family=\"Times,serif\" font-size=\"14.00\">~</text>\n",
       "<text text-anchor=\"middle\" x=\"696\" y=\"-407.64\" font-family=\"Times,serif\" font-size=\"14.00\">Normal</text>\n",
       "</g>\n",
       "<!-- g_beta_0&#45;&gt;beta_0 -->\n",
       "<g id=\"edge4\" class=\"edge\">\n",
       "<title>g_beta_0&#45;&gt;beta_0</title>\n",
       "<path fill=\"none\" stroke=\"black\" d=\"M677.3,-391.67C668.18,-378.66 655.93,-365.17 641,-357.86 607.96,-341.67 344.84,-361.68 310,-349.86 305.94,-348.48 301.92,-346.64 298.05,-344.53\"/>\n",
       "<polygon fill=\"black\" stroke=\"black\" points=\"299.63,-341.39 289.28,-339.16 295.98,-347.36 299.63,-341.39\"/>\n",
       "</g>\n",
       "<!-- g_beta_3 -->\n",
       "<g id=\"node15\" class=\"node\">\n",
       "<title>g_beta_3</title>\n",
       "<ellipse fill=\"none\" stroke=\"black\" cx=\"585\" cy=\"-426.34\" rx=\"46.84\" ry=\"37.45\"/>\n",
       "<text text-anchor=\"middle\" x=\"585\" y=\"-437.64\" font-family=\"Times,serif\" font-size=\"14.00\">g_beta_3</text>\n",
       "<text text-anchor=\"middle\" x=\"585\" y=\"-422.64\" font-family=\"Times,serif\" font-size=\"14.00\">~</text>\n",
       "<text text-anchor=\"middle\" x=\"585\" y=\"-407.64\" font-family=\"Times,serif\" font-size=\"14.00\">Normal</text>\n",
       "</g>\n",
       "<!-- g_beta_3&#45;&gt;beta_3 -->\n",
       "<g id=\"edge10\" class=\"edge\">\n",
       "<title>g_beta_3&#45;&gt;beta_3</title>\n",
       "<path fill=\"none\" stroke=\"black\" d=\"M566.3,-391.67C557.18,-378.67 544.93,-365.18 530,-357.86 497.97,-342.15 242.78,-361.34 209,-349.86 204.94,-348.48 200.92,-346.64 197.05,-344.52\"/>\n",
       "<polygon fill=\"black\" stroke=\"black\" points=\"198.63,-341.39 188.28,-339.15 194.98,-347.36 198.63,-341.39\"/>\n",
       "</g>\n",
       "</g>\n",
       "</svg>\n"
      ],
      "text/plain": [
       "<graphviz.dot.Digraph at 0x2aab707d1d80>"
      ]
     },
     "execution_count": 208,
     "metadata": {},
     "output_type": "execute_result"
    }
   ],
   "source": [
    "pm.model_to_graphviz(assay_level_model)"
   ]
  },
  {
   "cell_type": "code",
   "execution_count": null,
   "id": "4018c7cc",
   "metadata": {},
   "outputs": [],
   "source": [
    "with assay_level_model:\n",
    "    tr_assay = pm.sample(500, tune=500, init=\"adapt_diag\",chains=4,cores=8)\n"
   ]
  },
  {
   "cell_type": "code",
   "execution_count": null,
   "id": "bb491426",
   "metadata": {},
   "outputs": [],
   "source": [
    "with assay_level_model:\n",
    "    az.plot_forest(\n",
    "        tr_assay,\n",
    "        combined=True,\n",
    "        var_names=[\"beta_protocol\"],\n",
    "        figsize=(10, 10),\n",
    "        textsize=14,\n",
    "    )"
   ]
  },
  {
   "cell_type": "code",
   "execution_count": null,
   "id": "d68512af",
   "metadata": {},
   "outputs": [],
   "source": []
  }
 ],
 "metadata": {
  "kernelspec": {
   "display_name": "Python 3 (ipykernel)",
   "language": "python",
   "name": "python3"
  },
  "language_info": {
   "codemirror_mode": {
    "name": "ipython",
    "version": 3
   },
   "file_extension": ".py",
   "mimetype": "text/x-python",
   "name": "python",
   "nbconvert_exporter": "python",
   "pygments_lexer": "ipython3",
   "version": "3.10.4"
  }
 },
 "nbformat": 4,
 "nbformat_minor": 5
}
